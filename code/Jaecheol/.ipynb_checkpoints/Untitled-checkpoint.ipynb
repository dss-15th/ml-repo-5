{
 "cells": [
  {
   "cell_type": "code",
   "execution_count": 34,
   "metadata": {},
   "outputs": [
    {
     "data": {
      "text/html": [
       "<div>\n",
       "<style scoped>\n",
       "    .dataframe tbody tr th:only-of-type {\n",
       "        vertical-align: middle;\n",
       "    }\n",
       "\n",
       "    .dataframe tbody tr th {\n",
       "        vertical-align: top;\n",
       "    }\n",
       "\n",
       "    .dataframe thead th {\n",
       "        text-align: right;\n",
       "    }\n",
       "</style>\n",
       "<table border=\"1\" class=\"dataframe\">\n",
       "  <thead>\n",
       "    <tr style=\"text-align: right;\">\n",
       "      <th></th>\n",
       "      <th>index</th>\n",
       "      <th>title</th>\n",
       "      <th>comments</th>\n",
       "      <th>label</th>\n",
       "      <th>NEW</th>\n",
       "      <th>Unnamed: 6</th>\n",
       "    </tr>\n",
       "  </thead>\n",
       "  <tbody>\n",
       "    <tr>\n",
       "      <th>0</th>\n",
       "      <td>28</td>\n",
       "      <td>송가인, 행사비 ‘껑충’…축제 관계자 “너무 비싸”</td>\n",
       "      <td>1억도 안아깝다 ☝️☝️☝️☝️☝️☝️☝️</td>\n",
       "      <td>none</td>\n",
       "      <td>NaN</td>\n",
       "      <td>none</td>\n",
       "    </tr>\n",
       "    <tr>\n",
       "      <th>1</th>\n",
       "      <td>39</td>\n",
       "      <td>\"섹시미 폭발\"..마마무 화사, 시상식 뒤집어놓은 '레드 보디수트' [2018 MA...</td>\n",
       "      <td>2018년 마마 진정한 승자 화사</td>\n",
       "      <td>none</td>\n",
       "      <td>NaN</td>\n",
       "      <td>none</td>\n",
       "    </tr>\n",
       "    <tr>\n",
       "      <th>2</th>\n",
       "      <td>49</td>\n",
       "      <td>\"한치 대란 예고\" 화사 '냉장고' 강림한 먹방 여신 \"주량 소주 1병\"[종합]</td>\n",
       "      <td>24살인데 술을먹어 발랑까졋네 고딩때도 먹엇을듯</td>\n",
       "      <td>offensive</td>\n",
       "      <td>NaN</td>\n",
       "      <td>offensive</td>\n",
       "    </tr>\n",
       "    <tr>\n",
       "      <th>3</th>\n",
       "      <td>57</td>\n",
       "      <td>구혜선 \"안재현 증오, 망가지길 원했다…더이상 사랑하지 않아\" [전문]</td>\n",
       "      <td>2년도안되 ㅇㅈㅎ 양아치에게 통수 맞으니 분하겠죠 ......그동안 sns에서 충분...</td>\n",
       "      <td>offensive</td>\n",
       "      <td>NaN</td>\n",
       "      <td>offensive</td>\n",
       "    </tr>\n",
       "    <tr>\n",
       "      <th>4</th>\n",
       "      <td>73</td>\n",
       "      <td>'이틀만에 12억 매출' 염따 후드티, 대체 어떤 옷이길래</td>\n",
       "      <td>3일에 12억원어치 팔만큼 파급력있는 사람입니다. 왜 다들 조롱만 하나요? 잘 알지...</td>\n",
       "      <td>none</td>\n",
       "      <td>NaN</td>\n",
       "      <td>none</td>\n",
       "    </tr>\n",
       "  </tbody>\n",
       "</table>\n",
       "</div>"
      ],
      "text/plain": [
       "   index                                              title  \\\n",
       "0     28                       송가인, 행사비 ‘껑충’…축제 관계자 “너무 비싸”   \n",
       "1     39  \"섹시미 폭발\"..마마무 화사, 시상식 뒤집어놓은 '레드 보디수트' [2018 MA...   \n",
       "2     49       \"한치 대란 예고\" 화사 '냉장고' 강림한 먹방 여신 \"주량 소주 1병\"[종합]   \n",
       "3     57            구혜선 \"안재현 증오, 망가지길 원했다…더이상 사랑하지 않아\" [전문]   \n",
       "4     73                   '이틀만에 12억 매출' 염따 후드티, 대체 어떤 옷이길래   \n",
       "\n",
       "                                            comments      label  NEW  \\\n",
       "0                            1억도 안아깝다 ☝️☝️☝️☝️☝️☝️☝️       none  NaN   \n",
       "1                                 2018년 마마 진정한 승자 화사       none  NaN   \n",
       "2                         24살인데 술을먹어 발랑까졋네 고딩때도 먹엇을듯  offensive  NaN   \n",
       "3  2년도안되 ㅇㅈㅎ 양아치에게 통수 맞으니 분하겠죠 ......그동안 sns에서 충분...  offensive  NaN   \n",
       "4  3일에 12억원어치 팔만큼 파급력있는 사람입니다. 왜 다들 조롱만 하나요? 잘 알지...       none  NaN   \n",
       "\n",
       "  Unnamed: 6  \n",
       "0       none  \n",
       "1       none  \n",
       "2  offensive  \n",
       "3  offensive  \n",
       "4       none  "
      ]
     },
     "execution_count": 34,
     "metadata": {},
     "output_type": "execute_result"
    }
   ],
   "source": [
    "new_label = pd.read_excel('./nogada.xlsx', index_col=0)\n",
    "new_label.head()"
   ]
  },
  {
   "cell_type": "code",
   "execution_count": 44,
   "metadata": {},
   "outputs": [
    {
     "data": {
      "text/html": [
       "<div>\n",
       "<style scoped>\n",
       "    .dataframe tbody tr th:only-of-type {\n",
       "        vertical-align: middle;\n",
       "    }\n",
       "\n",
       "    .dataframe tbody tr th {\n",
       "        vertical-align: top;\n",
       "    }\n",
       "\n",
       "    .dataframe thead th {\n",
       "        text-align: right;\n",
       "    }\n",
       "</style>\n",
       "<table border=\"1\" class=\"dataframe\">\n",
       "  <thead>\n",
       "    <tr style=\"text-align: right;\">\n",
       "      <th></th>\n",
       "      <th>index</th>\n",
       "      <th>title</th>\n",
       "      <th>comments</th>\n",
       "      <th>label</th>\n",
       "      <th>NEW</th>\n",
       "      <th>Unnamed: 6</th>\n",
       "    </tr>\n",
       "  </thead>\n",
       "  <tbody>\n",
       "    <tr>\n",
       "      <th>9</th>\n",
       "      <td>115</td>\n",
       "      <td>토니안, H.O.T. 재결합 무대 소감 \"정말 행복한 시간\"</td>\n",
       "      <td>HOT 팬들은 사람죽일 정도로 극성이였다든데</td>\n",
       "      <td>hate</td>\n",
       "      <td>offensive</td>\n",
       "      <td>offensive</td>\n",
       "    </tr>\n",
       "    <tr>\n",
       "      <th>24</th>\n",
       "      <td>242</td>\n",
       "      <td>박명수 아내 한수민, 부모 욕하는 비속어+동작 의혹..'부적절 행동'</td>\n",
       "      <td>ㅋㅋㅋㅋㅋㅋ 욕하는분들 평생 욕 안해보고 사신분?별게 다 불편해~~~~</td>\n",
       "      <td>offensive</td>\n",
       "      <td>none</td>\n",
       "      <td>none</td>\n",
       "    </tr>\n",
       "    <tr>\n",
       "      <th>32</th>\n",
       "      <td>324</td>\n",
       "      <td>[POP이슈]\"꽃신 신고 감격\" 빈지노 제대에 '♥미초바' 눈물→쏟아지는 응원(종합)</td>\n",
       "      <td>갈수록 군대복무기간줄이네26개월갓다온거 억울하네 스브얼</td>\n",
       "      <td>hate</td>\n",
       "      <td>none</td>\n",
       "      <td>none</td>\n",
       "    </tr>\n",
       "    <tr>\n",
       "      <th>34</th>\n",
       "      <td>341</td>\n",
       "      <td>SBS \"고현정 교체 검토중\"…수목극 '리턴' 파행(종합)</td>\n",
       "      <td>갑질하다가 골로가신 연예인들 많던데 . . .</td>\n",
       "      <td>offensive</td>\n",
       "      <td>none</td>\n",
       "      <td>none</td>\n",
       "    </tr>\n",
       "    <tr>\n",
       "      <th>50</th>\n",
       "      <td>516</td>\n",
       "      <td>'피소' 김정훈 사생활 논란→김진아 의미심장 심경 \"차라리 다행\"(종합)[Oh!쎈 이슈]</td>\n",
       "      <td>결혼사기로 피임안했으니 애생긴거지 아니면 여자가 임신하면 인생망치는데 했겠냐? 그래...</td>\n",
       "      <td>hate</td>\n",
       "      <td>offensive</td>\n",
       "      <td>offensive</td>\n",
       "    </tr>\n",
       "  </tbody>\n",
       "</table>\n",
       "</div>"
      ],
      "text/plain": [
       "    index                                              title  \\\n",
       "9     115                  토니안, H.O.T. 재결합 무대 소감 \"정말 행복한 시간\"   \n",
       "24    242             박명수 아내 한수민, 부모 욕하는 비속어+동작 의혹..'부적절 행동'   \n",
       "32    324    [POP이슈]\"꽃신 신고 감격\" 빈지노 제대에 '♥미초바' 눈물→쏟아지는 응원(종합)   \n",
       "34    341                   SBS \"고현정 교체 검토중\"…수목극 '리턴' 파행(종합)   \n",
       "50    516  '피소' 김정훈 사생활 논란→김진아 의미심장 심경 \"차라리 다행\"(종합)[Oh!쎈 이슈]   \n",
       "\n",
       "                                             comments      label        NEW  \\\n",
       "9                            HOT 팬들은 사람죽일 정도로 극성이였다든데       hate  offensive   \n",
       "24            ㅋㅋㅋㅋㅋㅋ 욕하는분들 평생 욕 안해보고 사신분?별게 다 불편해~~~~  offensive       none   \n",
       "32                     갈수록 군대복무기간줄이네26개월갓다온거 억울하네 스브얼       hate       none   \n",
       "34                          갑질하다가 골로가신 연예인들 많던데 . . .  offensive       none   \n",
       "50  결혼사기로 피임안했으니 애생긴거지 아니면 여자가 임신하면 인생망치는데 했겠냐? 그래...       hate  offensive   \n",
       "\n",
       "   Unnamed: 6  \n",
       "9   offensive  \n",
       "24       none  \n",
       "32       none  \n",
       "34       none  \n",
       "50  offensive  "
      ]
     },
     "execution_count": 44,
     "metadata": {},
     "output_type": "execute_result"
    }
   ],
   "source": [
    "new_label = new_label[new_label['NEW'].notnull()]\n",
    "new_label.head()"
   ]
  },
  {
   "cell_type": "code",
   "execution_count": 45,
   "metadata": {},
   "outputs": [
    {
     "data": {
      "text/html": [
       "<div>\n",
       "<style scoped>\n",
       "    .dataframe tbody tr th:only-of-type {\n",
       "        vertical-align: middle;\n",
       "    }\n",
       "\n",
       "    .dataframe tbody tr th {\n",
       "        vertical-align: top;\n",
       "    }\n",
       "\n",
       "    .dataframe thead th {\n",
       "        text-align: right;\n",
       "    }\n",
       "</style>\n",
       "<table border=\"1\" class=\"dataframe\">\n",
       "  <thead>\n",
       "    <tr style=\"text-align: right;\">\n",
       "      <th></th>\n",
       "      <th>index</th>\n",
       "      <th>Unnamed: 6</th>\n",
       "    </tr>\n",
       "  </thead>\n",
       "  <tbody>\n",
       "    <tr>\n",
       "      <th>9</th>\n",
       "      <td>115</td>\n",
       "      <td>offensive</td>\n",
       "    </tr>\n",
       "    <tr>\n",
       "      <th>24</th>\n",
       "      <td>242</td>\n",
       "      <td>none</td>\n",
       "    </tr>\n",
       "    <tr>\n",
       "      <th>32</th>\n",
       "      <td>324</td>\n",
       "      <td>none</td>\n",
       "    </tr>\n",
       "    <tr>\n",
       "      <th>34</th>\n",
       "      <td>341</td>\n",
       "      <td>none</td>\n",
       "    </tr>\n",
       "    <tr>\n",
       "      <th>50</th>\n",
       "      <td>516</td>\n",
       "      <td>offensive</td>\n",
       "    </tr>\n",
       "  </tbody>\n",
       "</table>\n",
       "</div>"
      ],
      "text/plain": [
       "    index Unnamed: 6\n",
       "9     115  offensive\n",
       "24    242       none\n",
       "32    324       none\n",
       "34    341       none\n",
       "50    516  offensive"
      ]
     },
     "execution_count": 45,
     "metadata": {},
     "output_type": "execute_result"
    }
   ],
   "source": [
    "new_label = new_label[[\"index\", \"Unnamed: 6\"]]\n",
    "new_label.head()"
   ]
  },
  {
   "cell_type": "code",
   "execution_count": 46,
   "metadata": {},
   "outputs": [],
   "source": [
    "indices = [idx for idx in new_label['index']]\n",
    "labels = [label for label in new_label['Unnamed: 6']]"
   ]
  },
  {
   "cell_type": "code",
   "execution_count": 53,
   "metadata": {},
   "outputs": [],
   "source": [
    "train = pd.read_csv('../../data/train.hate.csv')"
   ]
  },
  {
   "cell_type": "code",
   "execution_count": 64,
   "metadata": {},
   "outputs": [
    {
     "data": {
      "text/plain": [
       "comments    HOT 팬들은 사람죽일 정도로 극성이였다든데\n",
       "label                           hate\n",
       "Name: 115, dtype: object"
      ]
     },
     "execution_count": 64,
     "metadata": {},
     "output_type": "execute_result"
    }
   ],
   "source": [
    "train.iloc[115]"
   ]
  },
  {
   "cell_type": "code",
   "execution_count": 63,
   "metadata": {},
   "outputs": [
    {
     "data": {
      "text/plain": [
       "array(['offensive', 'none', 'none', 'none', 'offensive', 'offensive',\n",
       "       'none', 'none', 'none', 'hate', 'offensive', 'offensive', 'hate',\n",
       "       'hate', 'offensive', 'offensive', 'offensive', 'none', 'offensive',\n",
       "       'none', 'none', 'hate', 'none', 'offensive', 'offensive', 'hate',\n",
       "       'offensive', 'offensive', 'hate', 'offensive', 'offensive', 'hate',\n",
       "       'hate', 'offensive', 'hate', 'offensive', 'hate', 'offensive',\n",
       "       'offensive', 'hate', 'none', 'hate', 'none', 'offensive', 'none',\n",
       "       'none', 'none', 'none', 'none', 'offensive', 'none', 'none',\n",
       "       'hate', 'hate'], dtype=object)"
      ]
     },
     "execution_count": 63,
     "metadata": {},
     "output_type": "execute_result"
    }
   ],
   "source": [
    "new_label['Unnamed: 6'].values"
   ]
  },
  {
   "cell_type": "code",
   "execution_count": 71,
   "metadata": {},
   "outputs": [],
   "source": [
    "train['label'][indices] = labels"
   ]
  },
  {
   "cell_type": "code",
   "execution_count": 72,
   "metadata": {},
   "outputs": [
    {
     "data": {
      "text/plain": [
       "comments    HOT 팬들은 사람죽일 정도로 극성이였다든데\n",
       "label                      offensive\n",
       "Name: 115, dtype: object"
      ]
     },
     "execution_count": 72,
     "metadata": {},
     "output_type": "execute_result"
    }
   ],
   "source": [
    "train.iloc[115]"
   ]
  },
  {
   "cell_type": "code",
   "execution_count": 73,
   "metadata": {},
   "outputs": [
    {
     "data": {
      "text/html": [
       "<div>\n",
       "<style scoped>\n",
       "    .dataframe tbody tr th:only-of-type {\n",
       "        vertical-align: middle;\n",
       "    }\n",
       "\n",
       "    .dataframe tbody tr th {\n",
       "        vertical-align: top;\n",
       "    }\n",
       "\n",
       "    .dataframe thead th {\n",
       "        text-align: right;\n",
       "    }\n",
       "</style>\n",
       "<table border=\"1\" class=\"dataframe\">\n",
       "  <thead>\n",
       "    <tr style=\"text-align: right;\">\n",
       "      <th></th>\n",
       "      <th>comments</th>\n",
       "      <th>label</th>\n",
       "    </tr>\n",
       "  </thead>\n",
       "  <tbody>\n",
       "    <tr>\n",
       "      <th>0</th>\n",
       "      <td>(현재 호텔주인 심정) 아18 난 마른하늘에 날벼락맞고 호텔망하게생겼는데 누군 계속...</td>\n",
       "      <td>hate</td>\n",
       "    </tr>\n",
       "    <tr>\n",
       "      <th>1</th>\n",
       "      <td>....한국적인 미인의 대표적인 분...너무나 곱고아름다운모습...그모습뒤의 슬픔을...</td>\n",
       "      <td>none</td>\n",
       "    </tr>\n",
       "    <tr>\n",
       "      <th>2</th>\n",
       "      <td>...못된 넘들...남의 고통을 즐겼던 넘들..이젠 마땅한 처벌을 받아야지..,그래...</td>\n",
       "      <td>hate</td>\n",
       "    </tr>\n",
       "    <tr>\n",
       "      <th>3</th>\n",
       "      <td>1,2화 어설펐는데 3,4화 지나서부터는 갈수록 너무 재밌던데</td>\n",
       "      <td>none</td>\n",
       "    </tr>\n",
       "    <tr>\n",
       "      <th>4</th>\n",
       "      <td>1. 사람 얼굴 손톱으로 긁은것은 인격살해이고2. 동영상이 몰카냐? 메걸리안들 생각...</td>\n",
       "      <td>hate</td>\n",
       "    </tr>\n",
       "    <tr>\n",
       "      <th>...</th>\n",
       "      <td>...</td>\n",
       "      <td>...</td>\n",
       "    </tr>\n",
       "    <tr>\n",
       "      <th>7891</th>\n",
       "      <td>힘내세요~ 응원합니다!!</td>\n",
       "      <td>none</td>\n",
       "    </tr>\n",
       "    <tr>\n",
       "      <th>7892</th>\n",
       "      <td>힘내세요~~삼가 고인의 명복을 빕니다..</td>\n",
       "      <td>none</td>\n",
       "    </tr>\n",
       "    <tr>\n",
       "      <th>7893</th>\n",
       "      <td>힘내세용 ^^ 항상 응원합니닷 ^^ !</td>\n",
       "      <td>none</td>\n",
       "    </tr>\n",
       "    <tr>\n",
       "      <th>7894</th>\n",
       "      <td>힘내소...연기로 답해요.나도 53살 인데 이런일 저런일 다 있더라구요.인격을 믿습...</td>\n",
       "      <td>none</td>\n",
       "    </tr>\n",
       "    <tr>\n",
       "      <th>7895</th>\n",
       "      <td>힘들면 관뒀어야지 그게 현명한거다</td>\n",
       "      <td>none</td>\n",
       "    </tr>\n",
       "  </tbody>\n",
       "</table>\n",
       "<p>7896 rows × 2 columns</p>\n",
       "</div>"
      ],
      "text/plain": [
       "                                               comments label\n",
       "0     (현재 호텔주인 심정) 아18 난 마른하늘에 날벼락맞고 호텔망하게생겼는데 누군 계속...  hate\n",
       "1     ....한국적인 미인의 대표적인 분...너무나 곱고아름다운모습...그모습뒤의 슬픔을...  none\n",
       "2     ...못된 넘들...남의 고통을 즐겼던 넘들..이젠 마땅한 처벌을 받아야지..,그래...  hate\n",
       "3                    1,2화 어설펐는데 3,4화 지나서부터는 갈수록 너무 재밌던데  none\n",
       "4     1. 사람 얼굴 손톱으로 긁은것은 인격살해이고2. 동영상이 몰카냐? 메걸리안들 생각...  hate\n",
       "...                                                 ...   ...\n",
       "7891                                      힘내세요~ 응원합니다!!  none\n",
       "7892                             힘내세요~~삼가 고인의 명복을 빕니다..  none\n",
       "7893                              힘내세용 ^^ 항상 응원합니닷 ^^ !  none\n",
       "7894  힘내소...연기로 답해요.나도 53살 인데 이런일 저런일 다 있더라구요.인격을 믿습...  none\n",
       "7895                                 힘들면 관뒀어야지 그게 현명한거다  none\n",
       "\n",
       "[7896 rows x 2 columns]"
      ]
     },
     "execution_count": 73,
     "metadata": {},
     "output_type": "execute_result"
    }
   ],
   "source": [
    "train"
   ]
  },
  {
   "cell_type": "code",
   "execution_count": 74,
   "metadata": {},
   "outputs": [],
   "source": [
    "train.to_csv('./new_train.csv')"
   ]
  },
  {
   "cell_type": "code",
   "execution_count": null,
   "metadata": {},
   "outputs": [],
   "source": []
  }
 ],
 "metadata": {
  "kernelspec": {
   "display_name": "Python 3",
   "language": "python",
   "name": "python3"
  },
  "language_info": {
   "codemirror_mode": {
    "name": "ipython",
    "version": 3
   },
   "file_extension": ".py",
   "mimetype": "text/x-python",
   "name": "python",
   "nbconvert_exporter": "python",
   "pygments_lexer": "ipython3",
   "version": "3.8.3"
  }
 },
 "nbformat": 4,
 "nbformat_minor": 4
}
