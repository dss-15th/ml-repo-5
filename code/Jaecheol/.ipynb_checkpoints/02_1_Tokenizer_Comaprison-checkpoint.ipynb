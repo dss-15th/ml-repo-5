{
 "cells": [
  {
   "cell_type": "code",
   "execution_count": 11,
   "metadata": {},
   "outputs": [],
   "source": [
    "import pandas as pd"
   ]
  },
  {
   "cell_type": "code",
   "execution_count": 12,
   "metadata": {},
   "outputs": [],
   "source": [
    "raw_data = pd.read_csv('../../data/train.hate.csv')\n",
    "test = pd.read_csv('../../data/dev.hate.csv')"
   ]
  },
  {
   "cell_type": "code",
   "execution_count": 13,
   "metadata": {
    "scrolled": true
   },
   "outputs": [
    {
     "data": {
      "text/html": [
       "<div>\n",
       "<style scoped>\n",
       "    .dataframe tbody tr th:only-of-type {\n",
       "        vertical-align: middle;\n",
       "    }\n",
       "\n",
       "    .dataframe tbody tr th {\n",
       "        vertical-align: top;\n",
       "    }\n",
       "\n",
       "    .dataframe thead th {\n",
       "        text-align: right;\n",
       "    }\n",
       "</style>\n",
       "<table border=\"1\" class=\"dataframe\">\n",
       "  <thead>\n",
       "    <tr style=\"text-align: right;\">\n",
       "      <th></th>\n",
       "      <th>comments</th>\n",
       "      <th>label</th>\n",
       "    </tr>\n",
       "  </thead>\n",
       "  <tbody>\n",
       "    <tr>\n",
       "      <th>466</th>\n",
       "      <td>지현우 범죄 저지르지 않았나요?</td>\n",
       "      <td>offensive</td>\n",
       "    </tr>\n",
       "    <tr>\n",
       "      <th>467</th>\n",
       "      <td>여자인생 망칠 일 있나 ㅋㅋ</td>\n",
       "      <td>hate</td>\n",
       "    </tr>\n",
       "    <tr>\n",
       "      <th>468</th>\n",
       "      <td>근데 전라도에서 사고가 났는데 굳이 서울까지 와서 병원에 가느 이유는?</td>\n",
       "      <td>offensive</td>\n",
       "    </tr>\n",
       "    <tr>\n",
       "      <th>469</th>\n",
       "      <td>할매젖x, 뱃살x, 몸매 s라인, 유륜은 적당해야됨(너무크거나 너무 작아도 x), ...</td>\n",
       "      <td>hate</td>\n",
       "    </tr>\n",
       "    <tr>\n",
       "      <th>470</th>\n",
       "      <td>남자가 잘못한거라면... 반성도 없다면...나였다면 ... 여자처럼 아주 못되게 할...</td>\n",
       "      <td>none</td>\n",
       "    </tr>\n",
       "  </tbody>\n",
       "</table>\n",
       "</div>"
      ],
      "text/plain": [
       "                                              comments      label\n",
       "466                                  지현우 범죄 저지르지 않았나요?  offensive\n",
       "467                                    여자인생 망칠 일 있나 ㅋㅋ       hate\n",
       "468            근데 전라도에서 사고가 났는데 굳이 서울까지 와서 병원에 가느 이유는?  offensive\n",
       "469  할매젖x, 뱃살x, 몸매 s라인, 유륜은 적당해야됨(너무크거나 너무 작아도 x), ...       hate\n",
       "470  남자가 잘못한거라면... 반성도 없다면...나였다면 ... 여자처럼 아주 못되게 할...       none"
      ]
     },
     "execution_count": 13,
     "metadata": {},
     "output_type": "execute_result"
    }
   ],
   "source": [
    "test.tail()"
   ]
  },
  {
   "cell_type": "code",
   "execution_count": 14,
   "metadata": {},
   "outputs": [],
   "source": [
    "train = raw_data.copy()"
   ]
  },
  {
   "cell_type": "code",
   "execution_count": 15,
   "metadata": {},
   "outputs": [
    {
     "name": "stdout",
     "output_type": "stream",
     "text": [
      "<class 'pandas.core.frame.DataFrame'>\n",
      "RangeIndex: 7896 entries, 0 to 7895\n",
      "Data columns (total 2 columns):\n",
      " #   Column    Non-Null Count  Dtype \n",
      "---  ------    --------------  ----- \n",
      " 0   comments  7896 non-null   object\n",
      " 1   label     7896 non-null   object\n",
      "dtypes: object(2)\n",
      "memory usage: 123.5+ KB\n"
     ]
    }
   ],
   "source": [
    "train.info()"
   ]
  },
  {
   "cell_type": "code",
   "execution_count": 16,
   "metadata": {},
   "outputs": [
    {
     "data": {
      "text/html": [
       "<div>\n",
       "<style scoped>\n",
       "    .dataframe tbody tr th:only-of-type {\n",
       "        vertical-align: middle;\n",
       "    }\n",
       "\n",
       "    .dataframe tbody tr th {\n",
       "        vertical-align: top;\n",
       "    }\n",
       "\n",
       "    .dataframe thead th {\n",
       "        text-align: right;\n",
       "    }\n",
       "</style>\n",
       "<table border=\"1\" class=\"dataframe\">\n",
       "  <thead>\n",
       "    <tr style=\"text-align: right;\">\n",
       "      <th></th>\n",
       "      <th>comments</th>\n",
       "      <th>label</th>\n",
       "    </tr>\n",
       "  </thead>\n",
       "  <tbody>\n",
       "    <tr>\n",
       "      <th>100</th>\n",
       "      <td>6명이서 그깟 20년 한거가지고 참 ㅋㅋㅋㅋㅋㅋㅋㅋ강필주는 혼자 20년 기다리고 참...</td>\n",
       "      <td>offensive</td>\n",
       "    </tr>\n",
       "    <tr>\n",
       "      <th>101</th>\n",
       "      <td>6명전부 별론데 그나마 저중에 문희준이 제일 인기많았고 돈 많이 벌었고</td>\n",
       "      <td>offensive</td>\n",
       "    </tr>\n",
       "    <tr>\n",
       "      <th>102</th>\n",
       "      <td>6월 29일 전미선에 이어 7월 31일 박일 성우님... 올해 몇번째 연예계 비보가...</td>\n",
       "      <td>none</td>\n",
       "    </tr>\n",
       "    <tr>\n",
       "      <th>103</th>\n",
       "      <td>75% 여성비율 30대 37% ㅎㄷㄷ 능력있는 한국남성분들 국제결혼이 답입니다. 일...</td>\n",
       "      <td>offensive</td>\n",
       "    </tr>\n",
       "    <tr>\n",
       "      <th>104</th>\n",
       "      <td>79년생 하하 아직도 초딩캐릭터 아냐? 김종민도 그렇고 어른 이미지로 가는거 별로 ...</td>\n",
       "      <td>none</td>\n",
       "    </tr>\n",
       "  </tbody>\n",
       "</table>\n",
       "</div>"
      ],
      "text/plain": [
       "                                              comments      label\n",
       "100  6명이서 그깟 20년 한거가지고 참 ㅋㅋㅋㅋㅋㅋㅋㅋ강필주는 혼자 20년 기다리고 참...  offensive\n",
       "101            6명전부 별론데 그나마 저중에 문희준이 제일 인기많았고 돈 많이 벌었고  offensive\n",
       "102  6월 29일 전미선에 이어 7월 31일 박일 성우님... 올해 몇번째 연예계 비보가...       none\n",
       "103  75% 여성비율 30대 37% ㅎㄷㄷ 능력있는 한국남성분들 국제결혼이 답입니다. 일...  offensive\n",
       "104  79년생 하하 아직도 초딩캐릭터 아냐? 김종민도 그렇고 어른 이미지로 가는거 별로 ...       none"
      ]
     },
     "execution_count": 16,
     "metadata": {},
     "output_type": "execute_result"
    }
   ],
   "source": [
    "train.iloc[100:105]"
   ]
  },
  {
   "cell_type": "markdown",
   "metadata": {},
   "source": [
    "### 1. 특수문자 제거, 문장 분리, 띄어쓰기는 공통적으로 적용"
   ]
  },
  {
   "cell_type": "code",
   "execution_count": 17,
   "metadata": {},
   "outputs": [
    {
     "data": {
      "text/html": [
       "<div>\n",
       "<style scoped>\n",
       "    .dataframe tbody tr th:only-of-type {\n",
       "        vertical-align: middle;\n",
       "    }\n",
       "\n",
       "    .dataframe tbody tr th {\n",
       "        vertical-align: top;\n",
       "    }\n",
       "\n",
       "    .dataframe thead th {\n",
       "        text-align: right;\n",
       "    }\n",
       "</style>\n",
       "<table border=\"1\" class=\"dataframe\">\n",
       "  <thead>\n",
       "    <tr style=\"text-align: right;\">\n",
       "      <th></th>\n",
       "      <th>comments</th>\n",
       "      <th>label</th>\n",
       "    </tr>\n",
       "  </thead>\n",
       "  <tbody>\n",
       "    <tr>\n",
       "      <th>100</th>\n",
       "      <td>6명이서 그깟 20년 한거가지고 참 ㅋㅋㅋㅋㅋㅋㅋㅋ강필주는 혼자 20년 기다리고 참...</td>\n",
       "      <td>offensive</td>\n",
       "    </tr>\n",
       "    <tr>\n",
       "      <th>101</th>\n",
       "      <td>6명전부 별론데 그나마 저중에 문희준이 제일 인기많았고 돈 많이 벌었고</td>\n",
       "      <td>offensive</td>\n",
       "    </tr>\n",
       "    <tr>\n",
       "      <th>102</th>\n",
       "      <td>6월 29일 전미선에 이어 7월 31일 박일 성우님    올해 몇번째 연예계 비보가...</td>\n",
       "      <td>none</td>\n",
       "    </tr>\n",
       "    <tr>\n",
       "      <th>103</th>\n",
       "      <td>75  여성비율 30대 37  ㅎㄷㄷ 능력있는 한국남성분들 국제결혼이 답입니다  일...</td>\n",
       "      <td>offensive</td>\n",
       "    </tr>\n",
       "    <tr>\n",
       "      <th>104</th>\n",
       "      <td>79년생 하하 아직도 초딩캐릭터 아냐  김종민도 그렇고 어른 이미지로 가는거 별로 ...</td>\n",
       "      <td>none</td>\n",
       "    </tr>\n",
       "  </tbody>\n",
       "</table>\n",
       "</div>"
      ],
      "text/plain": [
       "                                              comments      label\n",
       "100  6명이서 그깟 20년 한거가지고 참 ㅋㅋㅋㅋㅋㅋㅋㅋ강필주는 혼자 20년 기다리고 참...  offensive\n",
       "101            6명전부 별론데 그나마 저중에 문희준이 제일 인기많았고 돈 많이 벌었고  offensive\n",
       "102  6월 29일 전미선에 이어 7월 31일 박일 성우님    올해 몇번째 연예계 비보가...       none\n",
       "103  75  여성비율 30대 37  ㅎㄷㄷ 능력있는 한국남성분들 국제결혼이 답입니다  일...  offensive\n",
       "104  79년생 하하 아직도 초딩캐릭터 아냐  김종민도 그렇고 어른 이미지로 가는거 별로 ...       none"
      ]
     },
     "execution_count": 17,
     "metadata": {},
     "output_type": "execute_result"
    }
   ],
   "source": [
    "# 특수문자 제거\n",
    "import re\n",
    "\n",
    "# 간편한 버전(예지버전) 사용\n",
    "def cleanse(text):\n",
    "    pattern = re.compile(r'\\s+')\n",
    "    text = re.sub(pattern, ' ', text)\n",
    "    text = re.sub('[^가-힣ㄱ-ㅎㅏ-ㅣa-zA-Z0-9]', ' ', text)\n",
    "    return text\n",
    "\n",
    "train['comments'] = train['comments'].apply(cleanse)\n",
    "train.iloc[100:105]"
   ]
  },
  {
   "cell_type": "code",
   "execution_count": 18,
   "metadata": {},
   "outputs": [
    {
     "data": {
      "text/html": [
       "<div>\n",
       "<style scoped>\n",
       "    .dataframe tbody tr th:only-of-type {\n",
       "        vertical-align: middle;\n",
       "    }\n",
       "\n",
       "    .dataframe tbody tr th {\n",
       "        vertical-align: top;\n",
       "    }\n",
       "\n",
       "    .dataframe thead th {\n",
       "        text-align: right;\n",
       "    }\n",
       "</style>\n",
       "<table border=\"1\" class=\"dataframe\">\n",
       "  <thead>\n",
       "    <tr style=\"text-align: right;\">\n",
       "      <th></th>\n",
       "      <th>comments</th>\n",
       "      <th>label</th>\n",
       "    </tr>\n",
       "  </thead>\n",
       "  <tbody>\n",
       "    <tr>\n",
       "      <th>100</th>\n",
       "      <td>6명이 서 그깟 20년 한 거가지고 참 ㅋㅋㅋㅋㅋㅋㅋㅋ 강필주는 혼자 20년 기다리...</td>\n",
       "      <td>offensive</td>\n",
       "    </tr>\n",
       "    <tr>\n",
       "      <th>101</th>\n",
       "      <td>6명 전부 별론데 그나마 저 중에 문희준이 제일 인기 많았고 돈 많이 벌었고</td>\n",
       "      <td>offensive</td>\n",
       "    </tr>\n",
       "    <tr>\n",
       "      <th>102</th>\n",
       "      <td>6월 29일 전미선에 이어 7월 31일 박 일 성우님 올해 몇 번째 연예계 비보가 ...</td>\n",
       "      <td>none</td>\n",
       "    </tr>\n",
       "    <tr>\n",
       "      <th>103</th>\n",
       "      <td>75 여성비율 30대 37 ㅎㄷㄷ 능력 있는 한국 남성분들 국제결혼이 답입니다 일본...</td>\n",
       "      <td>offensive</td>\n",
       "    </tr>\n",
       "    <tr>\n",
       "      <th>104</th>\n",
       "      <td>79년생 하 하 아직도 초딩 캐릭터 아냐 김종민도 그렇고 어른 이미지로 가는 거 별...</td>\n",
       "      <td>none</td>\n",
       "    </tr>\n",
       "  </tbody>\n",
       "</table>\n",
       "</div>"
      ],
      "text/plain": [
       "                                              comments      label\n",
       "100  6명이 서 그깟 20년 한 거가지고 참 ㅋㅋㅋㅋㅋㅋㅋㅋ 강필주는 혼자 20년 기다리...  offensive\n",
       "101         6명 전부 별론데 그나마 저 중에 문희준이 제일 인기 많았고 돈 많이 벌었고  offensive\n",
       "102  6월 29일 전미선에 이어 7월 31일 박 일 성우님 올해 몇 번째 연예계 비보가 ...       none\n",
       "103  75 여성비율 30대 37 ㅎㄷㄷ 능력 있는 한국 남성분들 국제결혼이 답입니다 일본...  offensive\n",
       "104  79년생 하 하 아직도 초딩 캐릭터 아냐 김종민도 그렇고 어른 이미지로 가는 거 별...       none"
      ]
     },
     "execution_count": 18,
     "metadata": {},
     "output_type": "execute_result"
    }
   ],
   "source": [
    "# 띄어쓰기\n",
    "from pykospacing import spacing\n",
    "train['comments'] = train['comments'].apply(spacing)\n",
    "train.iloc[100:105]"
   ]
  },
  {
   "cell_type": "code",
   "execution_count": 19,
   "metadata": {},
   "outputs": [
    {
     "data": {
      "text/html": [
       "<div>\n",
       "<style scoped>\n",
       "    .dataframe tbody tr th:only-of-type {\n",
       "        vertical-align: middle;\n",
       "    }\n",
       "\n",
       "    .dataframe tbody tr th {\n",
       "        vertical-align: top;\n",
       "    }\n",
       "\n",
       "    .dataframe thead th {\n",
       "        text-align: right;\n",
       "    }\n",
       "</style>\n",
       "<table border=\"1\" class=\"dataframe\">\n",
       "  <thead>\n",
       "    <tr style=\"text-align: right;\">\n",
       "      <th></th>\n",
       "      <th>comments</th>\n",
       "      <th>label</th>\n",
       "    </tr>\n",
       "  </thead>\n",
       "  <tbody>\n",
       "    <tr>\n",
       "      <th>100</th>\n",
       "      <td>6명이 서 그깟 20년 한 거가지고 참 ㅋㅋㅋㅋㅋㅋㅋㅋ 강필주는 혼자 20년 기다리...</td>\n",
       "      <td>offensive</td>\n",
       "    </tr>\n",
       "    <tr>\n",
       "      <th>101</th>\n",
       "      <td>6명 전부 별론데 그나마 저 중에 문희준이 제일 인기 많았고 돈 많이 벌었고</td>\n",
       "      <td>offensive</td>\n",
       "    </tr>\n",
       "    <tr>\n",
       "      <th>102</th>\n",
       "      <td>6월 29일 전미선에 이어 7월 31일 박 일 성우님 올해 몇 번째 연예계 비보가 ...</td>\n",
       "      <td>none</td>\n",
       "    </tr>\n",
       "    <tr>\n",
       "      <th>103</th>\n",
       "      <td>75 여성비율 30대 37 ㅎㄷㄷ 능력 있는 한국 남성분들 국제결혼이 답입니다,일본...</td>\n",
       "      <td>offensive</td>\n",
       "    </tr>\n",
       "    <tr>\n",
       "      <th>104</th>\n",
       "      <td>79년생 하 하 아직도 초딩 캐릭터 아냐 김종민도 그렇고 어른 이미지로 가는 거 별...</td>\n",
       "      <td>none</td>\n",
       "    </tr>\n",
       "  </tbody>\n",
       "</table>\n",
       "</div>"
      ],
      "text/plain": [
       "                                              comments      label\n",
       "100  6명이 서 그깟 20년 한 거가지고 참 ㅋㅋㅋㅋㅋㅋㅋㅋ 강필주는 혼자 20년 기다리...  offensive\n",
       "101         6명 전부 별론데 그나마 저 중에 문희준이 제일 인기 많았고 돈 많이 벌었고  offensive\n",
       "102  6월 29일 전미선에 이어 7월 31일 박 일 성우님 올해 몇 번째 연예계 비보가 ...       none\n",
       "103  75 여성비율 30대 37 ㅎㄷㄷ 능력 있는 한국 남성분들 국제결혼이 답입니다,일본...  offensive\n",
       "104  79년생 하 하 아직도 초딩 캐릭터 아냐 김종민도 그렇고 어른 이미지로 가는 거 별...       none"
      ]
     },
     "execution_count": 19,
     "metadata": {},
     "output_type": "execute_result"
    }
   ],
   "source": [
    "# 문장 분리\n",
    "import kss\n",
    "train['comments'] = train['comments'].apply(kss.split_sentences)\n",
    "train['comments'] = [','.join(map(str, ls)) for ls in train['comments']]\n",
    "train.iloc[100:105]"
   ]
  },
  {
   "cell_type": "code",
   "execution_count": 20,
   "metadata": {},
   "outputs": [
    {
     "data": {
      "text/html": [
       "<div>\n",
       "<style scoped>\n",
       "    .dataframe tbody tr th:only-of-type {\n",
       "        vertical-align: middle;\n",
       "    }\n",
       "\n",
       "    .dataframe tbody tr th {\n",
       "        vertical-align: top;\n",
       "    }\n",
       "\n",
       "    .dataframe thead th {\n",
       "        text-align: right;\n",
       "    }\n",
       "</style>\n",
       "<table border=\"1\" class=\"dataframe\">\n",
       "  <thead>\n",
       "    <tr style=\"text-align: right;\">\n",
       "      <th></th>\n",
       "      <th>comments</th>\n",
       "      <th>label</th>\n",
       "    </tr>\n",
       "  </thead>\n",
       "  <tbody>\n",
       "    <tr>\n",
       "      <th>100</th>\n",
       "      <td>6명이 서 그깟 20년 한 거가지고 참 ㅋㅋ 강필주는 혼자 20년 기다리고 참아왔다</td>\n",
       "      <td>offensive</td>\n",
       "    </tr>\n",
       "    <tr>\n",
       "      <th>101</th>\n",
       "      <td>6명 전부 별론데 그나마 저 중에 문희준이 제일 인기 많았고 돈 많이 벌었고</td>\n",
       "      <td>offensive</td>\n",
       "    </tr>\n",
       "    <tr>\n",
       "      <th>102</th>\n",
       "      <td>6월 29일 전미선에 이어 7월 31일 박 일 성우님 올해 몇 번째 연예계 비보가 ...</td>\n",
       "      <td>none</td>\n",
       "    </tr>\n",
       "    <tr>\n",
       "      <th>103</th>\n",
       "      <td>75 여성비율 30대 37 ㅎㄷㄷ 능력 있는 한국 남성분들 국제결혼이 답입니다,일본...</td>\n",
       "      <td>offensive</td>\n",
       "    </tr>\n",
       "    <tr>\n",
       "      <th>104</th>\n",
       "      <td>79년생 하 하 아직도 초딩 캐릭터 아냐 김종민도 그렇고 어른 이미지로 가는 거 별...</td>\n",
       "      <td>none</td>\n",
       "    </tr>\n",
       "  </tbody>\n",
       "</table>\n",
       "</div>"
      ],
      "text/plain": [
       "                                              comments      label\n",
       "100     6명이 서 그깟 20년 한 거가지고 참 ㅋㅋ 강필주는 혼자 20년 기다리고 참아왔다  offensive\n",
       "101         6명 전부 별론데 그나마 저 중에 문희준이 제일 인기 많았고 돈 많이 벌었고  offensive\n",
       "102  6월 29일 전미선에 이어 7월 31일 박 일 성우님 올해 몇 번째 연예계 비보가 ...       none\n",
       "103  75 여성비율 30대 37 ㅎㄷㄷ 능력 있는 한국 남성분들 국제결혼이 답입니다,일본...  offensive\n",
       "104  79년생 하 하 아직도 초딩 캐릭터 아냐 김종민도 그렇고 어른 이미지로 가는 거 별...       none"
      ]
     },
     "execution_count": 20,
     "metadata": {},
     "output_type": "execute_result"
    }
   ],
   "source": [
    "# 중복 제거\n",
    "from soynlp.normalizer import *\n",
    "train['comments'] = [repeat_normalize(comment, num_repeats=2) for comment in train['comments']]\n",
    "train.iloc[100:105]"
   ]
  },
  {
   "cell_type": "markdown",
   "metadata": {},
   "source": [
    "### 2. 각 형태소 분석기별 데이터 생성"
   ]
  },
  {
   "cell_type": "code",
   "execution_count": 21,
   "metadata": {},
   "outputs": [],
   "source": [
    "# 데이터프레임 생성\n",
    "khai_train = pd.DataFrame(columns=['words', 'postagged'])\n",
    "mecab_train = pd.DataFrame(columns=['words', 'postagged'])\n",
    "okt_train = pd.DataFrame(columns=['words', 'postagged'])"
   ]
  },
  {
   "cell_type": "code",
   "execution_count": 22,
   "metadata": {},
   "outputs": [],
   "source": [
    "# khaiii\n",
    "from khaiii import KhaiiiApi\n",
    "kh = KhaiiiApi()\n",
    "\n",
    "words = []\n",
    "postagged = []\n",
    "for comment in train['comments']:\n",
    "    # 문장 -> 형태소 객체로 분리\n",
    "    sentence = kh.analyze(comment)\n",
    "    # 형태소 -> 한 문장으로 다시 합쳐서 저장\n",
    "    words.append(' '.join([morph.lex for morph in sentence]))\n",
    "    # 품사 태깅\n",
    "    #postagged.append(' '.join([morph.morphs.tag for morph in sentence]))\n",
    "\n",
    "khai_train['words'] = words"
   ]
  },
  {
   "cell_type": "code",
   "execution_count": 23,
   "metadata": {},
   "outputs": [],
   "source": [
    "# mecab\n",
    "from konlpy.tag import Mecab\n",
    "me = Mecab()\n",
    "\n",
    "words = []\n",
    "postagged = []\n",
    "for comment in train['comments']:\n",
    "    # 문장 -> 형태소 객체로 분리\n",
    "    sentence = me.morphs(comment)\n",
    "    # 형태소 -> 한 문장으로 다시 합쳐서 저장\n",
    "    words.append(' '.join([morph for morph in sentence]))\n",
    "    \n",
    "mecab_train['words'] = words"
   ]
  },
  {
   "cell_type": "code",
   "execution_count": 24,
   "metadata": {},
   "outputs": [],
   "source": [
    "# okt\n",
    "from konlpy.tag import Okt\n",
    "t = Okt()\n",
    "\n",
    "words = []\n",
    "postagged = []\n",
    "for comment in train['comments']:\n",
    "    # 문장 -> 형태소 객체로 분리\n",
    "    sentence = t.morphs(comment)\n",
    "    # 형태소 -> 한 문장으로 다시 합쳐서 저장\n",
    "    words.append(' '.join([morph for morph in sentence]))\n",
    "\n",
    "okt_train['words'] = words"
   ]
  },
  {
   "cell_type": "code",
   "execution_count": 25,
   "metadata": {},
   "outputs": [],
   "source": [
    "from sklearn.naive_bayes             import MultinomialNB\n",
    "from sklearn.ensemble                import RandomForestClassifier\n",
    "from sklearn.feature_extraction.text import TfidfVectorizer, CountVectorizer\n",
    "from sklearn.linear_model            import LogisticRegression\n",
    "from sklearn.model_selection         import GridSearchCV, train_test_split, cross_val_score\n",
    "from sklearn.metrics                 import accuracy_score, recall_score, roc_auc_score, f1_score\n",
    "from sklearn.pipeline                import Pipeline\n",
    "from sklearn.svm                     import SVC\n",
    "from sklearn.tree                    import DecisionTreeClassifier\n",
    "from lightgbm                        import LGBMClassifier"
   ]
  },
  {
   "cell_type": "markdown",
   "metadata": {},
   "source": [
    "### 모델 적용 함수"
   ]
  },
  {
   "cell_type": "code",
   "execution_count": 30,
   "metadata": {},
   "outputs": [],
   "source": [
    "from konlpy.tag import Okt\n",
    "t = Okt()\n",
    "def t_tokenizer(text):\n",
    "    tokens_ko = t.morphs(text)\n",
    "    return tokens_ko"
   ]
  },
  {
   "cell_type": "code",
   "execution_count": 31,
   "metadata": {},
   "outputs": [],
   "source": [
    "dfs = [('Khai', khai_train), ('Mecab', mecab_train), ('Okt', okt_train)]\n",
    "models = [RandomForestClassifier(), LogisticRegression(), SVC(), LGBMClassifier()]\n",
    "\n",
    "def get_score(df, model):\n",
    "    # 훈련: train 전체 / 테스트: dev 전체\n",
    "    X_train = df['words']\n",
    "    X_test = test['comments']\n",
    "    y_train = train['label']\n",
    "    y_test = test['label']\n",
    "    \n",
    "    # Setting up the pipeline\n",
    "    cvec_lr_pipe = Pipeline([(\"vec\", TfidfVectorizer(tokenizer=t_tokenizer)), \n",
    "                             (\"model\", model)])\n",
    "\n",
    "    # Setting the CVEC hyperparameters\n",
    "    cvec_pipe_params = {\"vec__ngram_range\" : [(1,2)], \n",
    "                        \"vec__stop_words\"  : [None]}\n",
    "\n",
    "    # Instantiating the grid search\n",
    "    cvec_lr_gs = GridSearchCV(cvec_lr_pipe, \n",
    "                              param_grid = cvec_pipe_params, \n",
    "                              cv=5)\n",
    "\n",
    "    # Fitting the model to the training data\n",
    "    cvec_lr_gs.fit(X_train, y_train);\n",
    "    \n",
    "    # Predicting\n",
    "    train_pred = cvec_lr_gs.predict(X_train)\n",
    "    test_pred = cvec_lr_gs.predict(X_test)\n",
    "\n",
    "    # Score\n",
    "    f1 = [f1_score(train_pred, y_train, average='macro'), f1_score(test_pred, y_test, average='macro')]\n",
    "    acc = [accuracy_score(y_train, train_pred), accuracy_score(y_test, test_pred)]\n",
    "    score_df = pd.DataFrame(data={'F1 Score' : f1, 'Accuracy' : acc}, index=['Train', 'Test'])\n",
    "    return score_df"
   ]
  },
  {
   "cell_type": "code",
   "execution_count": 32,
   "metadata": {},
   "outputs": [
    {
     "name": "stdout",
     "output_type": "stream",
     "text": [
      "Model : RandomForestClassifier() / Data : Khai\n",
      "       F1 Score  Accuracy\n",
      "Train  0.999885  0.999873\n",
      "Test   0.476069  0.503185\n",
      "------------------------------\n",
      "Model : RandomForestClassifier() / Data : Mecab\n",
      "       F1 Score  Accuracy\n",
      "Train  1.000000  1.000000\n",
      "Test   0.417748  0.460722\n",
      "------------------------------\n",
      "Model : RandomForestClassifier() / Data : Okt\n",
      "       F1 Score  Accuracy\n",
      "Train  0.999885  0.999873\n",
      "Test   0.462053  0.492569\n",
      "------------------------------\n",
      "Model : LogisticRegression() / Data : Khai\n",
      "       F1 Score  Accuracy\n",
      "Train  0.949034  0.950861\n",
      "Test   0.579354  0.588110\n",
      "------------------------------\n",
      "Model : LogisticRegression() / Data : Mecab\n",
      "       F1 Score  Accuracy\n",
      "Train  0.931383  0.933384\n",
      "Test   0.544350  0.558386\n",
      "------------------------------\n",
      "Model : LogisticRegression() / Data : Okt\n",
      "       F1 Score  Accuracy\n",
      "Train  0.949241  0.951114\n",
      "Test   0.573409  0.581741\n",
      "------------------------------\n",
      "Model : SVC() / Data : Khai\n",
      "       F1 Score  Accuracy\n",
      "Train  0.998311  0.998354\n",
      "Test   0.522109  0.545648\n",
      "------------------------------\n",
      "Model : SVC() / Data : Mecab\n",
      "       F1 Score  Accuracy\n",
      "Train  0.996564  0.996581\n",
      "Test   0.491518  0.518047\n",
      "------------------------------\n",
      "Model : SVC() / Data : Okt\n",
      "       F1 Score  Accuracy\n",
      "Train  0.998311  0.998354\n",
      "Test   0.523185  0.545648\n",
      "------------------------------\n",
      "Model : LGBMClassifier() / Data : Khai\n",
      "       F1 Score  Accuracy\n",
      "Train  0.786059  0.795466\n",
      "Test   0.524745  0.535032\n",
      "------------------------------\n",
      "Model : LGBMClassifier() / Data : Mecab\n",
      "       F1 Score  Accuracy\n",
      "Train  0.833634  0.839539\n",
      "Test   0.486849  0.505308\n",
      "------------------------------\n",
      "Model : LGBMClassifier() / Data : Okt\n",
      "       F1 Score  Accuracy\n",
      "Train  0.784302  0.793440\n",
      "Test   0.536710  0.543524\n",
      "------------------------------\n"
     ]
    }
   ],
   "source": [
    "for model in models:\n",
    "    for name, df in dfs:\n",
    "        print(\"Model : {} / Data : {}\".format(model, name))\n",
    "        print(get_score(df, model), '\\n', '------------------------------', sep='')"
   ]
  },
  {
   "cell_type": "markdown",
   "metadata": {},
   "source": [
    "# 결론: Khai가 전체적으로 가장 높다"
   ]
  }
 ],
 "metadata": {
  "kernelspec": {
   "display_name": "Python 3",
   "language": "python",
   "name": "python3"
  },
  "language_info": {
   "codemirror_mode": {
    "name": "ipython",
    "version": 3
   },
   "file_extension": ".py",
   "mimetype": "text/x-python",
   "name": "python",
   "nbconvert_exporter": "python",
   "pygments_lexer": "ipython3",
   "version": "3.8.3"
  }
 },
 "nbformat": 4,
 "nbformat_minor": 4
}
