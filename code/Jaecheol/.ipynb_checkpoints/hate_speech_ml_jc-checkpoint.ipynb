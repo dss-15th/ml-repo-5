{
 "cells": [
  {
   "cell_type": "code",
   "execution_count": 9,
   "metadata": {},
   "outputs": [],
   "source": [
    "import pandas as pd"
   ]
  },
  {
   "cell_type": "code",
   "execution_count": 10,
   "metadata": {},
   "outputs": [],
   "source": [
    "hate_speech = pd.read_csv('../../data/hate_speech.csv', index_col=0)\n",
    "hate_speech = hate_speech.drop('spell_preprocessed_corpus_copy', 1) # 코드 수정후에는 copy와 기존 컬럼이 동일해서 필요없어짐"
   ]
  },
  {
   "cell_type": "code",
   "execution_count": 14,
   "metadata": {},
   "outputs": [
    {
     "name": "stdout",
     "output_type": "stream",
     "text": [
      "<class 'pandas.core.frame.DataFrame'>\n",
      "Int64Index: 7893 entries, 0 to 7895\n",
      "Data columns (total 14 columns):\n",
      " #   Column                           Non-Null Count  Dtype \n",
      "---  ------                           --------------  ----- \n",
      " 0   title                            7893 non-null   object\n",
      " 1   spell_preprocessed_corpus_title  7893 non-null   object\n",
      " 2   pos_tagged_corpus_title          7893 non-null   object\n",
      " 3   stemming_corpus_title            7893 non-null   object\n",
      " 4   removed_stopword_corpus_title    7893 non-null   object\n",
      " 5   comments                         7893 non-null   object\n",
      " 6   cleaned_corpus                   7893 non-null   object\n",
      " 7   basic_preprocessed_corpus        7893 non-null   object\n",
      " 8   unicode_emoji_free_corpus        7893 non-null   object\n",
      " 9   spell_preprocessed_corpus        7893 non-null   object\n",
      " 10  pos_tagged_corpus                7886 non-null   object\n",
      " 11  stemming_corpus                  7886 non-null   object\n",
      " 12  removed_stopword_corpus          7886 non-null   object\n",
      " 13  label                            7893 non-null   object\n",
      "dtypes: object(14)\n",
      "memory usage: 925.0+ KB\n"
     ]
    }
   ],
   "source": [
    "hate_speech.info() # pos할때 결측치 나옴 추후 체크"
   ]
  },
  {
   "cell_type": "code",
   "execution_count": 15,
   "metadata": {},
   "outputs": [
    {
     "data": {
      "text/plain": [
       "1477"
      ]
     },
     "execution_count": 15,
     "metadata": {},
     "output_type": "execute_result"
    }
   ],
   "source": [
    "len(hate_speech['title'].drop_duplicates(keep='first')) # 기사 제목은 중복제거를 해보니 총 7893개 중 1477개 기사임"
   ]
  },
  {
   "cell_type": "code",
   "execution_count": 16,
   "metadata": {},
   "outputs": [],
   "source": [
    "hate_speech_tmp = hate_speech[['title','comments','label']] # 간단하게 보기 위해 원래 컬럼만 추출"
   ]
  },
  {
   "cell_type": "code",
   "execution_count": 17,
   "metadata": {},
   "outputs": [
    {
     "data": {
      "text/html": [
       "<div>\n",
       "<style scoped>\n",
       "    .dataframe tbody tr th:only-of-type {\n",
       "        vertical-align: middle;\n",
       "    }\n",
       "\n",
       "    .dataframe tbody tr th {\n",
       "        vertical-align: top;\n",
       "    }\n",
       "\n",
       "    .dataframe thead th {\n",
       "        text-align: right;\n",
       "    }\n",
       "</style>\n",
       "<table border=\"1\" class=\"dataframe\">\n",
       "  <thead>\n",
       "    <tr style=\"text-align: right;\">\n",
       "      <th></th>\n",
       "      <th></th>\n",
       "      <th>comments</th>\n",
       "    </tr>\n",
       "    <tr>\n",
       "      <th>title</th>\n",
       "      <th>label</th>\n",
       "      <th></th>\n",
       "    </tr>\n",
       "  </thead>\n",
       "  <tbody>\n",
       "    <tr>\n",
       "      <th rowspan=\"2\" valign=\"top\">\"'프듀2' 출신 합류\" 느와르 \"롤모델 방탄소년단\"(종합)</th>\n",
       "      <th>none</th>\n",
       "      <td>1</td>\n",
       "    </tr>\n",
       "    <tr>\n",
       "      <th>offensive</th>\n",
       "      <td>5</td>\n",
       "    </tr>\n",
       "    <tr>\n",
       "      <th rowspan=\"2\" valign=\"top\">\"180cm 괴어 영접\"'전설의 빅피쉬' 아마존 그랜드슬램 '대성공' (ft.뱀뱀)[종합]</th>\n",
       "      <th>none</th>\n",
       "      <td>3</td>\n",
       "    </tr>\n",
       "    <tr>\n",
       "      <th>offensive</th>\n",
       "      <td>1</td>\n",
       "    </tr>\n",
       "    <tr>\n",
       "      <th>\"19살차 극복\"…정재용♥선아, 결혼 5개월만 득녀→행복한 인생 2막 [종합]</th>\n",
       "      <th>hate</th>\n",
       "      <td>2</td>\n",
       "    </tr>\n",
       "    <tr>\n",
       "      <th>...</th>\n",
       "      <th>...</th>\n",
       "      <td>...</td>\n",
       "    </tr>\n",
       "    <tr>\n",
       "      <th rowspan=\"3\" valign=\"top\">휘성, 에이미 '프로포폴 공범' 지목…케이윌까지 '대략난감'[종합]</th>\n",
       "      <th>hate</th>\n",
       "      <td>1</td>\n",
       "    </tr>\n",
       "    <tr>\n",
       "      <th>none</th>\n",
       "      <td>1</td>\n",
       "    </tr>\n",
       "    <tr>\n",
       "      <th>offensive</th>\n",
       "      <td>2</td>\n",
       "    </tr>\n",
       "    <tr>\n",
       "      <th rowspan=\"2\" valign=\"top\">휘성, 오늘 부친상 비보..28일 발인</th>\n",
       "      <th>none</th>\n",
       "      <td>1</td>\n",
       "    </tr>\n",
       "    <tr>\n",
       "      <th>offensive</th>\n",
       "      <td>2</td>\n",
       "    </tr>\n",
       "  </tbody>\n",
       "</table>\n",
       "<p>3495 rows × 1 columns</p>\n",
       "</div>"
      ],
      "text/plain": [
       "                                                              comments\n",
       "title                                              label              \n",
       "\"'프듀2' 출신 합류\" 느와르 \"롤모델 방탄소년단\"(종합)                  none              1\n",
       "                                                   offensive         5\n",
       "\"180cm 괴어 영접\"'전설의 빅피쉬' 아마존 그랜드슬램 '대성공' (ft.뱀뱀)[종합] none              3\n",
       "                                                   offensive         1\n",
       "\"19살차 극복\"…정재용♥선아, 결혼 5개월만 득녀→행복한 인생 2막 [종합]        hate              2\n",
       "...                                                                ...\n",
       "휘성, 에이미 '프로포폴 공범' 지목…케이윌까지 '대략난감'[종합]              hate              1\n",
       "                                                   none              1\n",
       "                                                   offensive         2\n",
       "휘성, 오늘 부친상 비보..28일 발인                              none              1\n",
       "                                                   offensive         2\n",
       "\n",
       "[3495 rows x 1 columns]"
      ]
     },
     "execution_count": 17,
     "metadata": {},
     "output_type": "execute_result"
    }
   ],
   "source": [
    "hate_speech_tmp.groupby(['title', 'label']).count() # 대략 한 기사당 3~6개 정도의 코멘트를 가져온듯"
   ]
  },
  {
   "cell_type": "code",
   "execution_count": 18,
   "metadata": {},
   "outputs": [
    {
     "data": {
      "text/html": [
       "<div>\n",
       "<style scoped>\n",
       "    .dataframe tbody tr th:only-of-type {\n",
       "        vertical-align: middle;\n",
       "    }\n",
       "\n",
       "    .dataframe tbody tr th {\n",
       "        vertical-align: top;\n",
       "    }\n",
       "\n",
       "    .dataframe thead th {\n",
       "        text-align: right;\n",
       "    }\n",
       "</style>\n",
       "<table border=\"1\" class=\"dataframe\">\n",
       "  <thead>\n",
       "    <tr style=\"text-align: right;\">\n",
       "      <th></th>\n",
       "      <th>comments</th>\n",
       "      <th>label</th>\n",
       "    </tr>\n",
       "  </thead>\n",
       "  <tbody>\n",
       "    <tr>\n",
       "      <th>53</th>\n",
       "      <td>290억 아니고?</td>\n",
       "      <td>none</td>\n",
       "    </tr>\n",
       "    <tr>\n",
       "      <th>1771</th>\n",
       "      <td>누구냐 넌</td>\n",
       "      <td>offensive</td>\n",
       "    </tr>\n",
       "    <tr>\n",
       "      <th>1773</th>\n",
       "      <td>누구냐 넌????</td>\n",
       "      <td>offensive</td>\n",
       "    </tr>\n",
       "    <tr>\n",
       "      <th>4360</th>\n",
       "      <td>얘 누군데</td>\n",
       "      <td>offensive</td>\n",
       "    </tr>\n",
       "    <tr>\n",
       "      <th>4367</th>\n",
       "      <td>얘가 누군데</td>\n",
       "      <td>offensive</td>\n",
       "    </tr>\n",
       "    <tr>\n",
       "      <th>5521</th>\n",
       "      <td>으 ;;;;;;;;;;</td>\n",
       "      <td>none</td>\n",
       "    </tr>\n",
       "    <tr>\n",
       "      <th>7327</th>\n",
       "      <td>토 ㆍㆍㆍㆍㆍㆍ</td>\n",
       "      <td>none</td>\n",
       "    </tr>\n",
       "  </tbody>\n",
       "</table>\n",
       "</div>"
      ],
      "text/plain": [
       "          comments      label\n",
       "53       290억 아니고?       none\n",
       "1771         누구냐 넌  offensive\n",
       "1773     누구냐 넌????  offensive\n",
       "4360         얘 누군데  offensive\n",
       "4367        얘가 누군데  offensive\n",
       "5521  으 ;;;;;;;;;;       none\n",
       "7327      토 ㆍㆍㆍㆍㆍㆍ       none"
      ]
     },
     "execution_count": 18,
     "metadata": {},
     "output_type": "execute_result"
    }
   ],
   "source": [
    "#  khaiii 형태소 분석에서 중요 품사 없어서 삭제된 코멘트들\n",
    "#  여기 있는 문장의 품사들도 중요 품사에 추가 시켜야 할듯\n",
    "hate_speech[hate_speech['pos_tagged_corpus'].isnull()][['comments', 'label']] "
   ]
  },
  {
   "cell_type": "code",
   "execution_count": 19,
   "metadata": {
    "scrolled": true
   },
   "outputs": [
    {
     "data": {
      "text/html": [
       "<div>\n",
       "<style scoped>\n",
       "    .dataframe tbody tr th:only-of-type {\n",
       "        vertical-align: middle;\n",
       "    }\n",
       "\n",
       "    .dataframe tbody tr th {\n",
       "        vertical-align: top;\n",
       "    }\n",
       "\n",
       "    .dataframe thead th {\n",
       "        text-align: right;\n",
       "    }\n",
       "</style>\n",
       "<table border=\"1\" class=\"dataframe\">\n",
       "  <thead>\n",
       "    <tr style=\"text-align: right;\">\n",
       "      <th></th>\n",
       "      <th>title</th>\n",
       "      <th>spell_preprocessed_corpus_title</th>\n",
       "      <th>pos_tagged_corpus_title</th>\n",
       "      <th>stemming_corpus_title</th>\n",
       "      <th>removed_stopword_corpus_title</th>\n",
       "      <th>comments</th>\n",
       "      <th>cleaned_corpus</th>\n",
       "      <th>basic_preprocessed_corpus</th>\n",
       "      <th>unicode_emoji_free_corpus</th>\n",
       "      <th>spell_preprocessed_corpus</th>\n",
       "      <th>pos_tagged_corpus</th>\n",
       "      <th>stemming_corpus</th>\n",
       "      <th>removed_stopword_corpus</th>\n",
       "      <th>label</th>\n",
       "    </tr>\n",
       "  </thead>\n",
       "  <tbody>\n",
       "    <tr>\n",
       "      <th>0</th>\n",
       "      <td>밤새 조문 행렬…故 전미선, 동료들이 그리워하는 따뜻한 배우 [종합]</td>\n",
       "      <td>밤새 조문 행렬 故 전미선 동료들이 그리워하는 따뜻한 배우 [ 종합 ]</td>\n",
       "      <td>밤새/NNG 조문/NNG 행렬/NNG 전미선/NNP 동료/NNG 그리워하/VV 하/...</td>\n",
       "      <td>밤새/NNG 조문/NNG 행렬/NNG 전미선/NNP 동료/NNG 그리워하다/VV 하...</td>\n",
       "      <td>밤새/NNG 조문/NNG 행렬/NNG 전미선/NNP 동료/NNG 그리워하다/VV 하...</td>\n",
       "      <td>(현재 호텔주인 심정) 아18 난 마른하늘에 날벼락맞고 호텔망하게생겼는데 누군 계속...</td>\n",
       "      <td>( 현재 호텔주인 심정 )  아18 난 마른하늘에 날벼락맞고 호텔망하게생겼는데 누군...</td>\n",
       "      <td>현재 호텔주인 심정 아18 난 마른하늘에 날벼락맞고 호텔망하게생겼는데 누군 계속 추모받네</td>\n",
       "      <td>현재 호텔주인 심정 아18 난 마른하늘에 날벼락맞고 호텔망하게생겼는데 누군 계속 추모받네</td>\n",
       "      <td>현재 호텔 주인 심정 아 18 난 마른하늘에 날벼락 맞고 호텔 망하게 생겼는데 누군...</td>\n",
       "      <td>현재/MAG 호텔/NNG 주인/NNG 심정/NNG 나/VA 마른하늘/NNG 벼락/M...</td>\n",
       "      <td>현재/MAG 호텔/NNG 주인/NNG 심정/NNG 나/VA 마른하늘/NNG 벼락/M...</td>\n",
       "      <td>현재/MAG 호텔/NNG 주인/NNG 심정/NNG 나/VA 마른하늘/NNG 벼락/M...</td>\n",
       "      <td>hate</td>\n",
       "    </tr>\n",
       "    <tr>\n",
       "      <th>1</th>\n",
       "      <td>'연중' 故 전미선, 생전 마지막 미공개 인터뷰…환하게 웃는 모습 '먹먹'[종합]</td>\n",
       "      <td>연중 故 전미선 생전 마지막 미공개 인터뷰 환하게 웃는 모습 먹먹 [ 종합 ]</td>\n",
       "      <td>연중/NNG 전미선/NNP 생전/NNG 마지막/NNG 공개/NNG 인터뷰/NNG 환...</td>\n",
       "      <td>연중/NNG 전미선/NNP 생전/NNG 마지막/NNG 공개/NNG 인터뷰/NNG 환...</td>\n",
       "      <td>연중/NNG 전미선/NNP 생전/NNG 마지막/NNG 공개/NNG 인터뷰/NNG 환...</td>\n",
       "      <td>....한국적인 미인의 대표적인 분...너무나 곱고아름다운모습...그모습뒤의 슬픔을...</td>\n",
       "      <td>.  .  .  . 한국적인 미인의 대표적인 분 .  .  . 너무나 곱고아름다운모...</td>\n",
       "      <td>한국적인 미인의 대표적인 분 너무나 곱고아름다운모습 그모습뒤의 슬픔을 미처 알지못했네요ㅠ</td>\n",
       "      <td>한국적인 미인의 대표적인 분 너무나 곱고아름다운모습 그모습뒤의 슬픔을 미처 알지못했네요ㅠ</td>\n",
       "      <td>한국적인 미인의 대표적인 분 너무나 곱고 아름다운 모습 그 모습 뒤의 슬픔을 미처 ...</td>\n",
       "      <td>한국/NNP 미인/NNG 대표/NNG 분/NNB 너무나/MAG 곱/VA 아름답/VA...</td>\n",
       "      <td>한국/NNP 미인/NNG 대표/NNG 분/NNB 너무나/MAG 곱/VA 아름답/VA...</td>\n",
       "      <td>한국/NNP 미인/NNG 대표/NNG 분/NNB 너무나/MAG 곱/VA 아름답/VA...</td>\n",
       "      <td>none</td>\n",
       "    </tr>\n",
       "    <tr>\n",
       "      <th>2</th>\n",
       "      <td>[단독] 잔나비, 라디오 출연 취소→'한밤' 방송 연기..비판 여론 ing(종합)</td>\n",
       "      <td>[ 단독 ] 잔나비 라디오 출연 취소→ 한밤 방송 연기 비판 여론 ing 종합</td>\n",
       "      <td>단독/NNG 잔나비/NNP 라디오/NNG 출연/NNG 취소/NNG 밤/NNG 방송/...</td>\n",
       "      <td>단독/NNG 잔나비/NNP 라디오/NNG 출연/NNG 취소/NNG 밤/NNG 방송/...</td>\n",
       "      <td>단독/NNG 잔나비/NNP 라디오/NNG 출연/NNG 취소/NNG 밤/NNG 방송/...</td>\n",
       "      <td>...못된 넘들...남의 고통을 즐겼던 넘들..이젠 마땅한 처벌을 받아야지..,그래...</td>\n",
       "      <td>.  .  . 못된 넘들 .  .  . 남의 고통을 즐겼던 넘들 .  . 이젠 마땅...</td>\n",
       "      <td>못된 넘들 남의 고통을 즐겼던 넘들 이젠 마땅한 처벌을 받아야지 그래야 공정한 사회...</td>\n",
       "      <td>못된 넘들 남의 고통을 즐겼던 넘들 이젠 마땅한 처벌을 받아야지 그래야 공정한 사회...</td>\n",
       "      <td>못된 놈들 남의 고통을 즐겼던 놈들 이젠 마땅한 처벌을 받아야지 그래야 공정한 사회...</td>\n",
       "      <td>못되/VA 놈/NNB 남/NNG 고통/NNG 즐기/VV 놈/NNB 이제/NNG 하/...</td>\n",
       "      <td>못되/VA 놈/NNB 남/NNG 고통/NNG 즐기다/VV 놈/NNB 이제하다/VV ...</td>\n",
       "      <td>못되/VA 놈/NNB 남/NNG 고통/NNG 즐기다/VV 놈/NNB 이제하다/VV ...</td>\n",
       "      <td>hate</td>\n",
       "    </tr>\n",
       "    <tr>\n",
       "      <th>3</th>\n",
       "      <td>'아스달 연대기' 장동건-김옥빈, 들끓는 '욕망커플'→눈물범벅 '칼끝 대립'</td>\n",
       "      <td>아스 달 연대기 장동건 김옥빈 들끓는 욕망커플 →눈물범벅 칼끝 대립</td>\n",
       "      <td>아스/NNG 달/NNG 연대기/NNG 장동건/NNP 김옥빈/NNP 들끓/VV 욕망/...</td>\n",
       "      <td>아스/NNG 달/NNG 연대기/NNG 장동건/NNP 김옥빈/NNP 들끓다/VV 욕망...</td>\n",
       "      <td>아스/NNG 달/NNG 연대기/NNG 장동건/NNP 김옥빈/NNP 들끓다/VV 욕망...</td>\n",
       "      <td>1,2화 어설펐는데 3,4화 지나서부터는 갈수록 너무 재밌던데</td>\n",
       "      <td>1 , 2화 어설펐는데 3 , 4화 지나서부터는 갈수록 너무 재밌던데</td>\n",
       "      <td>1 2화 어설펐는데 3 4화 지나서부터는 갈수록 너무 재밌던데</td>\n",
       "      <td>1 2화 어설펐는데 3 4화 지나서부터는 갈수록 너무 재밌던데</td>\n",
       "      <td>1 2화 어설펐는데 3 4화 지나서부터는 갈수록 너무 재밌던데</td>\n",
       "      <td>화/NNB 어설프/VA 지나/VV 갈/MAG 록/MAG 너무/MAG 재밌/VA</td>\n",
       "      <td>화/NNB 어설프/VA 지나다/VV 갈/MAG 록/MAG 너무/MAG 재밌/VA</td>\n",
       "      <td>화/NNB 어설프/VA 지나다/VV 갈/MAG 록/MAG 너무/MAG 재밌/VA</td>\n",
       "      <td>none</td>\n",
       "    </tr>\n",
       "    <tr>\n",
       "      <th>4</th>\n",
       "      <td>[DA:이슈] ‘구하라 비보’ 최종범 항소심에 영향?…법조계 “‘공소권 없음’ 아냐”</td>\n",
       "      <td>[ da 이슈 ] 구하라 비보 최종범 항소심에 영향 법조계 공소권 없음 아냐</td>\n",
       "      <td>이/NNP 슈/NNG 구하/NNG 비보/NNG 최종범/NNP 항소심/NNG 영향/N...</td>\n",
       "      <td>이/NNP 슈/NNG 구하/NNG 비보/NNG 최종범/NNP 항소심/NNG 영향/N...</td>\n",
       "      <td>이/NNP 슈/NNG 구하/NNG 비보/NNG 최종범/NNP 항소심/NNG 영향/N...</td>\n",
       "      <td>1. 사람 얼굴 손톱으로 긁은것은 인격살해이고2. 동영상이 몰카냐? 메걸리안들 생각...</td>\n",
       "      <td>1 .  사람 얼굴 손톱으로 긁은것은 인격살해이고2 .  동영상이 몰카냐 ?  메걸...</td>\n",
       "      <td>1 사람 얼굴 손톱으로 긁은것은 인격살해이고2 동영상이 몰카냐 메걸리안들 생각이 없노</td>\n",
       "      <td>1 사람 얼굴 손톱으로 긁은것은 인격살해이고2 동영상이 몰카냐 메걸리안들 생각이 없노</td>\n",
       "      <td>1 사람 얼굴 손톱으로 긁은 것은 인격 살해이고 2 동영상이 몰카냐 에 걸리 안 들...</td>\n",
       "      <td>사람/NNG 얼굴/NNG 손톱/NNG 긁/VV 것/NNB 인격/NNG 살해/NNG ...</td>\n",
       "      <td>사람/NNG 얼굴/NNG 손톱/NNG 긁다/VV 것/NNB 인격/NNG 살해/NNG...</td>\n",
       "      <td>사람/NNG 얼굴/NNG 손톱/NNG 긁다/VV 것/NNB 인격/NNG 살해/NNG...</td>\n",
       "      <td>hate</td>\n",
       "    </tr>\n",
       "  </tbody>\n",
       "</table>\n",
       "</div>"
      ],
      "text/plain": [
       "                                             title  \\\n",
       "0           밤새 조문 행렬…故 전미선, 동료들이 그리워하는 따뜻한 배우 [종합]   \n",
       "1    '연중' 故 전미선, 생전 마지막 미공개 인터뷰…환하게 웃는 모습 '먹먹'[종합]   \n",
       "2    [단독] 잔나비, 라디오 출연 취소→'한밤' 방송 연기..비판 여론 ing(종합)   \n",
       "3       '아스달 연대기' 장동건-김옥빈, 들끓는 '욕망커플'→눈물범벅 '칼끝 대립'   \n",
       "4  [DA:이슈] ‘구하라 비보’ 최종범 항소심에 영향?…법조계 “‘공소권 없음’ 아냐”   \n",
       "\n",
       "               spell_preprocessed_corpus_title  \\\n",
       "0      밤새 조문 행렬 故 전미선 동료들이 그리워하는 따뜻한 배우 [ 종합 ]   \n",
       "1  연중 故 전미선 생전 마지막 미공개 인터뷰 환하게 웃는 모습 먹먹 [ 종합 ]   \n",
       "2  [ 단독 ] 잔나비 라디오 출연 취소→ 한밤 방송 연기 비판 여론 ing 종합   \n",
       "3        아스 달 연대기 장동건 김옥빈 들끓는 욕망커플 →눈물범벅 칼끝 대립   \n",
       "4   [ da 이슈 ] 구하라 비보 최종범 항소심에 영향 법조계 공소권 없음 아냐   \n",
       "\n",
       "                             pos_tagged_corpus_title  \\\n",
       "0  밤새/NNG 조문/NNG 행렬/NNG 전미선/NNP 동료/NNG 그리워하/VV 하/...   \n",
       "1  연중/NNG 전미선/NNP 생전/NNG 마지막/NNG 공개/NNG 인터뷰/NNG 환...   \n",
       "2  단독/NNG 잔나비/NNP 라디오/NNG 출연/NNG 취소/NNG 밤/NNG 방송/...   \n",
       "3  아스/NNG 달/NNG 연대기/NNG 장동건/NNP 김옥빈/NNP 들끓/VV 욕망/...   \n",
       "4  이/NNP 슈/NNG 구하/NNG 비보/NNG 최종범/NNP 항소심/NNG 영향/N...   \n",
       "\n",
       "                               stemming_corpus_title  \\\n",
       "0  밤새/NNG 조문/NNG 행렬/NNG 전미선/NNP 동료/NNG 그리워하다/VV 하...   \n",
       "1  연중/NNG 전미선/NNP 생전/NNG 마지막/NNG 공개/NNG 인터뷰/NNG 환...   \n",
       "2  단독/NNG 잔나비/NNP 라디오/NNG 출연/NNG 취소/NNG 밤/NNG 방송/...   \n",
       "3  아스/NNG 달/NNG 연대기/NNG 장동건/NNP 김옥빈/NNP 들끓다/VV 욕망...   \n",
       "4  이/NNP 슈/NNG 구하/NNG 비보/NNG 최종범/NNP 항소심/NNG 영향/N...   \n",
       "\n",
       "                       removed_stopword_corpus_title  \\\n",
       "0  밤새/NNG 조문/NNG 행렬/NNG 전미선/NNP 동료/NNG 그리워하다/VV 하...   \n",
       "1  연중/NNG 전미선/NNP 생전/NNG 마지막/NNG 공개/NNG 인터뷰/NNG 환...   \n",
       "2  단독/NNG 잔나비/NNP 라디오/NNG 출연/NNG 취소/NNG 밤/NNG 방송/...   \n",
       "3  아스/NNG 달/NNG 연대기/NNG 장동건/NNP 김옥빈/NNP 들끓다/VV 욕망...   \n",
       "4  이/NNP 슈/NNG 구하/NNG 비보/NNG 최종범/NNP 항소심/NNG 영향/N...   \n",
       "\n",
       "                                            comments  \\\n",
       "0  (현재 호텔주인 심정) 아18 난 마른하늘에 날벼락맞고 호텔망하게생겼는데 누군 계속...   \n",
       "1  ....한국적인 미인의 대표적인 분...너무나 곱고아름다운모습...그모습뒤의 슬픔을...   \n",
       "2  ...못된 넘들...남의 고통을 즐겼던 넘들..이젠 마땅한 처벌을 받아야지..,그래...   \n",
       "3                 1,2화 어설펐는데 3,4화 지나서부터는 갈수록 너무 재밌던데   \n",
       "4  1. 사람 얼굴 손톱으로 긁은것은 인격살해이고2. 동영상이 몰카냐? 메걸리안들 생각...   \n",
       "\n",
       "                                      cleaned_corpus  \\\n",
       "0  ( 현재 호텔주인 심정 )  아18 난 마른하늘에 날벼락맞고 호텔망하게생겼는데 누군...   \n",
       "1  .  .  .  . 한국적인 미인의 대표적인 분 .  .  . 너무나 곱고아름다운모...   \n",
       "2  .  .  . 못된 넘들 .  .  . 남의 고통을 즐겼던 넘들 .  . 이젠 마땅...   \n",
       "3             1 , 2화 어설펐는데 3 , 4화 지나서부터는 갈수록 너무 재밌던데   \n",
       "4  1 .  사람 얼굴 손톱으로 긁은것은 인격살해이고2 .  동영상이 몰카냐 ?  메걸...   \n",
       "\n",
       "                           basic_preprocessed_corpus  \\\n",
       "0  현재 호텔주인 심정 아18 난 마른하늘에 날벼락맞고 호텔망하게생겼는데 누군 계속 추모받네   \n",
       "1  한국적인 미인의 대표적인 분 너무나 곱고아름다운모습 그모습뒤의 슬픔을 미처 알지못했네요ㅠ   \n",
       "2  못된 넘들 남의 고통을 즐겼던 넘들 이젠 마땅한 처벌을 받아야지 그래야 공정한 사회...   \n",
       "3                 1 2화 어설펐는데 3 4화 지나서부터는 갈수록 너무 재밌던데   \n",
       "4    1 사람 얼굴 손톱으로 긁은것은 인격살해이고2 동영상이 몰카냐 메걸리안들 생각이 없노   \n",
       "\n",
       "                           unicode_emoji_free_corpus  \\\n",
       "0  현재 호텔주인 심정 아18 난 마른하늘에 날벼락맞고 호텔망하게생겼는데 누군 계속 추모받네   \n",
       "1  한국적인 미인의 대표적인 분 너무나 곱고아름다운모습 그모습뒤의 슬픔을 미처 알지못했네요ㅠ   \n",
       "2  못된 넘들 남의 고통을 즐겼던 넘들 이젠 마땅한 처벌을 받아야지 그래야 공정한 사회...   \n",
       "3                 1 2화 어설펐는데 3 4화 지나서부터는 갈수록 너무 재밌던데   \n",
       "4    1 사람 얼굴 손톱으로 긁은것은 인격살해이고2 동영상이 몰카냐 메걸리안들 생각이 없노   \n",
       "\n",
       "                           spell_preprocessed_corpus  \\\n",
       "0  현재 호텔 주인 심정 아 18 난 마른하늘에 날벼락 맞고 호텔 망하게 생겼는데 누군...   \n",
       "1  한국적인 미인의 대표적인 분 너무나 곱고 아름다운 모습 그 모습 뒤의 슬픔을 미처 ...   \n",
       "2  못된 놈들 남의 고통을 즐겼던 놈들 이젠 마땅한 처벌을 받아야지 그래야 공정한 사회...   \n",
       "3                 1 2화 어설펐는데 3 4화 지나서부터는 갈수록 너무 재밌던데   \n",
       "4  1 사람 얼굴 손톱으로 긁은 것은 인격 살해이고 2 동영상이 몰카냐 에 걸리 안 들...   \n",
       "\n",
       "                                   pos_tagged_corpus  \\\n",
       "0  현재/MAG 호텔/NNG 주인/NNG 심정/NNG 나/VA 마른하늘/NNG 벼락/M...   \n",
       "1  한국/NNP 미인/NNG 대표/NNG 분/NNB 너무나/MAG 곱/VA 아름답/VA...   \n",
       "2  못되/VA 놈/NNB 남/NNG 고통/NNG 즐기/VV 놈/NNB 이제/NNG 하/...   \n",
       "3        화/NNB 어설프/VA 지나/VV 갈/MAG 록/MAG 너무/MAG 재밌/VA   \n",
       "4  사람/NNG 얼굴/NNG 손톱/NNG 긁/VV 것/NNB 인격/NNG 살해/NNG ...   \n",
       "\n",
       "                                     stemming_corpus  \\\n",
       "0  현재/MAG 호텔/NNG 주인/NNG 심정/NNG 나/VA 마른하늘/NNG 벼락/M...   \n",
       "1  한국/NNP 미인/NNG 대표/NNG 분/NNB 너무나/MAG 곱/VA 아름답/VA...   \n",
       "2  못되/VA 놈/NNB 남/NNG 고통/NNG 즐기다/VV 놈/NNB 이제하다/VV ...   \n",
       "3       화/NNB 어설프/VA 지나다/VV 갈/MAG 록/MAG 너무/MAG 재밌/VA   \n",
       "4  사람/NNG 얼굴/NNG 손톱/NNG 긁다/VV 것/NNB 인격/NNG 살해/NNG...   \n",
       "\n",
       "                             removed_stopword_corpus label  \n",
       "0  현재/MAG 호텔/NNG 주인/NNG 심정/NNG 나/VA 마른하늘/NNG 벼락/M...  hate  \n",
       "1  한국/NNP 미인/NNG 대표/NNG 분/NNB 너무나/MAG 곱/VA 아름답/VA...  none  \n",
       "2  못되/VA 놈/NNB 남/NNG 고통/NNG 즐기다/VV 놈/NNB 이제하다/VV ...  hate  \n",
       "3       화/NNB 어설프/VA 지나다/VV 갈/MAG 록/MAG 너무/MAG 재밌/VA  none  \n",
       "4  사람/NNG 얼굴/NNG 손톱/NNG 긁다/VV 것/NNB 인격/NNG 살해/NNG...  hate  "
      ]
     },
     "execution_count": 19,
     "metadata": {},
     "output_type": "execute_result"
    }
   ],
   "source": [
    "# 일단은 결측치 제거한 df로 작업\n",
    "\n",
    "df = hate_speech[hate_speech['pos_tagged_corpus'].notnull()]\n",
    "df.head()"
   ]
  },
  {
   "cell_type": "code",
   "execution_count": 20,
   "metadata": {},
   "outputs": [
    {
     "name": "stderr",
     "output_type": "stream",
     "text": [
      "/Users/jaecheolchoi/opt/anaconda3/envs/nltk/lib/python3.7/site-packages/ipykernel_launcher.py:3: SettingWithCopyWarning: \n",
      "A value is trying to be set on a copy of a slice from a DataFrame.\n",
      "Try using .loc[row_indexer,col_indexer] = value instead\n",
      "\n",
      "See the caveats in the documentation: https://pandas.pydata.org/pandas-docs/stable/user_guide/indexing.html#returning-a-view-versus-a-copy\n",
      "  This is separate from the ipykernel package so we can avoid doing imports until\n",
      "/Users/jaecheolchoi/opt/anaconda3/envs/nltk/lib/python3.7/site-packages/ipykernel_launcher.py:4: SettingWithCopyWarning: \n",
      "A value is trying to be set on a copy of a slice from a DataFrame.\n",
      "Try using .loc[row_indexer,col_indexer] = value instead\n",
      "\n",
      "See the caveats in the documentation: https://pandas.pydata.org/pandas-docs/stable/user_guide/indexing.html#returning-a-view-versus-a-copy\n",
      "  after removing the cwd from sys.path.\n"
     ]
    }
   ],
   "source": [
    "# 최종적으로 품사태깅 마친 removed_stopword_corpus 분리후 카운트 넣어보기\n",
    "\n",
    "df['pos_corpus_split'] = df['removed_stopword_corpus'].str.split(' ')\n",
    "df['pos_count'] = df['pos_corpus_split'].apply(lambda x: len(x))"
   ]
  },
  {
   "cell_type": "code",
   "execution_count": 21,
   "metadata": {},
   "outputs": [
    {
     "data": {
      "text/plain": [
       "(['현재/MAG',\n",
       "  '호텔/NNG',\n",
       "  '주인/NNG',\n",
       "  '심정/NNG',\n",
       "  '나/VA',\n",
       "  '마른하늘/NNG',\n",
       "  '벼락/MAG',\n",
       "  '맞다/VV',\n",
       "  '호텔/NNG',\n",
       "  '망하다/VV',\n",
       "  '생기다/VV',\n",
       "  '계속/MAG',\n",
       "  '추모/NNG',\n",
       "  '받다/VV'],\n",
       " 14)"
      ]
     },
     "execution_count": 21,
     "metadata": {},
     "output_type": "execute_result"
    }
   ],
   "source": [
    "df['pos_corpus_split'][0], df['pos_count'][0]"
   ]
  },
  {
   "cell_type": "code",
   "execution_count": 22,
   "metadata": {},
   "outputs": [
    {
     "name": "stderr",
     "output_type": "stream",
     "text": [
      "/Users/jaecheolchoi/opt/anaconda3/envs/nltk/lib/python3.7/site-packages/seaborn/distributions.py:2557: FutureWarning: `distplot` is a deprecated function and will be removed in a future version. Please adapt your code to use either `displot` (a figure-level function with similar flexibility) or `histplot` (an axes-level function for histograms).\n",
      "  warnings.warn(msg, FutureWarning)\n"
     ]
    },
    {
     "data": {
      "image/png": "[encoded data removed]",
      "text/plain": [
       "<Figure size 1152x432 with 1 Axes>"
      ]
     },
     "metadata": {
      "image/png": {
       "height": 395,
       "width": 974
      }
     },
     "output_type": "display_data"
    }
   ],
   "source": [
    "# Generating a list of text lengths\n",
    "import numpy as np\n",
    "import matplotlib.pyplot as plt\n",
    "import seaborn as sns\n",
    "\n",
    "\n",
    "lengths = [len(text) for text in df['pos_corpus_split']]\n",
    "\n",
    "# Plotting the text lengths\n",
    "\n",
    "plt.figure(figsize=(16,6))\n",
    "sns.distplot(lengths, kde=False, bins=10, color=\"gray\")\n",
    "plt.axvline(np.mean(lengths), color = \"red\")\n",
    "plt.title(\"Distribution Of Text Length\", size= 10)\n",
    "plt.xlabel(\"Words\", size=16)\n",
    "plt.ylabel(\"Frequency\", size=16)\n",
    "plt.xticks(np.arange(0,50,5), size=14)\n",
    "plt.yticks(size=14);\n",
    "\n",
    "# The red line marks the mean length"
   ]
  },
  {
   "cell_type": "code",
   "execution_count": 26,
   "metadata": {},
   "outputs": [
    {
     "data": {
      "text/plain": [
       "<seaborn.axisgrid.FacetGrid at 0x7fc8bfbe0290>"
      ]
     },
     "execution_count": 26,
     "metadata": {},
     "output_type": "execute_result"
    },
    {
     "data": {
      "image/png": "[encoded data removed]",
      "text/plain": [
       "<Figure size 803.475x360 with 1 Axes>"
      ]
     },
     "metadata": {
      "image/png": {
       "height": 349,
       "width": 800
      }
     },
     "output_type": "display_data"
    }
   ],
   "source": [
    "sns.displot(\n",
    "    data=df, \n",
    "    x='pos_count', \n",
    "    hue='label', \n",
    "    kind='kde', \n",
    "    fill=True, \n",
    "    palette=sns.color_palette('bright')[:3], \n",
    "    height=5, aspect=2)"
   ]
  },
  {
   "cell_type": "code",
   "execution_count": 27,
   "metadata": {},
   "outputs": [
    {
     "name": "stdout",
     "output_type": "stream",
     "text": [
      "<class 'pandas.core.frame.DataFrame'>\n",
      "Int64Index: 7886 entries, 0 to 7895\n",
      "Data columns (total 16 columns):\n",
      " #   Column                           Non-Null Count  Dtype \n",
      "---  ------                           --------------  ----- \n",
      " 0   title                            7886 non-null   object\n",
      " 1   spell_preprocessed_corpus_title  7886 non-null   object\n",
      " 2   pos_tagged_corpus_title          7886 non-null   object\n",
      " 3   stemming_corpus_title            7886 non-null   object\n",
      " 4   removed_stopword_corpus_title    7886 non-null   object\n",
      " 5   comments                         7886 non-null   object\n",
      " 6   cleaned_corpus                   7886 non-null   object\n",
      " 7   basic_preprocessed_corpus        7886 non-null   object\n",
      " 8   unicode_emoji_free_corpus        7886 non-null   object\n",
      " 9   spell_preprocessed_corpus        7886 non-null   object\n",
      " 10  pos_tagged_corpus                7886 non-null   object\n",
      " 11  stemming_corpus                  7886 non-null   object\n",
      " 12  removed_stopword_corpus          7886 non-null   object\n",
      " 13  label                            7886 non-null   object\n",
      " 14  pos_corpus_split                 7886 non-null   object\n",
      " 15  pos_count                        7886 non-null   int64 \n",
      "dtypes: int64(1), object(15)\n",
      "memory usage: 1.3+ MB\n"
     ]
    }
   ],
   "source": [
    "df.info()"
   ]
  },
  {
   "cell_type": "code",
   "execution_count": 31,
   "metadata": {},
   "outputs": [],
   "source": [
    "from sklearn.naive_bayes             import MultinomialNB\n",
    "from sklearn.ensemble                import RandomForestClassifier\n",
    "from sklearn.feature_extraction.text import TfidfVectorizer, CountVectorizer\n",
    "from sklearn.linear_model            import LogisticRegression\n",
    "from sklearn.model_selection         import GridSearchCV, train_test_split, cross_val_score\n",
    "from sklearn.metrics                 import accuracy_score, recall_score, roc_auc_score, f1_score\n",
    "from sklearn.pipeline                import Pipeline\n",
    "from sklearn.svm                     import SVC\n",
    "from sklearn.tree                    import DecisionTreeClassifier\n",
    "from xgboost                         import XGBClassifier"
   ]
  },
  {
   "cell_type": "code",
   "execution_count": 32,
   "metadata": {},
   "outputs": [
    {
     "name": "stderr",
     "output_type": "stream",
     "text": [
      "/Users/jaecheolchoi/opt/anaconda3/envs/nltk/lib/python3.7/site-packages/ipykernel_launcher.py:4: SettingWithCopyWarning: \n",
      "A value is trying to be set on a copy of a slice from a DataFrame.\n",
      "Try using .loc[row_indexer,col_indexer] = value instead\n",
      "\n",
      "See the caveats in the documentation: https://pandas.pydata.org/pandas-docs/stable/user_guide/indexing.html#returning-a-view-versus-a-copy\n",
      "  after removing the cwd from sys.path.\n"
     ]
    }
   ],
   "source": [
    "from sklearn.preprocessing import LabelEncoder\n",
    "\n",
    "LE = LabelEncoder()\n",
    "df['code'] = LE.fit_transform(df['label'])"
   ]
  },
  {
   "cell_type": "code",
   "execution_count": 34,
   "metadata": {},
   "outputs": [],
   "source": [
    "X = df['spell_preprocessed_corpus']\n",
    "y = df['code']\n",
    "\n",
    "X_train, X_test, y_train, y_test = train_test_split(X,\n",
    "                                                    y,\n",
    "                                                    test_size=0.2,\n",
    "                                                    random_state = 29,\n",
    "                                                    stratify     = y)"
   ]
  },
  {
   "cell_type": "code",
   "execution_count": 35,
   "metadata": {},
   "outputs": [],
   "source": [
    "# Setting up the pipeline\n",
    "\n",
    "cvec_lr_pipe = Pipeline([(\"cvec\", CountVectorizer()), \n",
    "                         (\"log_reg\", LogisticRegression())])\n",
    "\n",
    "# Setting the CVEC hyperparameters\n",
    "\n",
    "cvec_pipe_params = {\"cvec__max_features\": [125], \n",
    "                    \"cvec__ngram_range\" : [(1,2)], \n",
    "                    \"cvec__stop_words\"  : [None]}\n",
    "\n",
    "# Instantiating the grid search\n",
    "\n",
    "cvec_lr_gs = GridSearchCV(cvec_lr_pipe, \n",
    "                          param_grid = cvec_pipe_params, \n",
    "                          cv=5)\n",
    "\n",
    "# Fitting the model to the training data\n",
    "\n",
    "cvec_lr_gs.fit(X_train, y_train);\n",
    "\n",
    "# The futurewarning can be ignored"
   ]
  },
  {
   "cell_type": "code",
   "execution_count": 36,
   "metadata": {},
   "outputs": [
    {
     "name": "stdout",
     "output_type": "stream",
     "text": [
      "Train Acc :  0.5045973367152822\n",
      "Test Acc :  0.49049429657794674\n"
     ]
    }
   ],
   "source": [
    "# Generating training predictions\n",
    "\n",
    "cvec_lr_train_preds = cvec_lr_gs.predict(X_train)\n",
    "\n",
    "# Generating test predictions\n",
    "\n",
    "cvec_lr_preds = cvec_lr_gs.predict(X_test)\n",
    "\n",
    "# Generating test probabilities\n",
    "\n",
    "cvec_lr_probas = cvec_lr_gs.predict_proba(X_test)\n",
    "\n",
    "print('Train Acc : ', accuracy_score(y_train, cvec_lr_train_preds))\n",
    "print('Test Acc : ', accuracy_score(y_test, cvec_lr_preds))"
   ]
  },
  {
   "cell_type": "code",
   "execution_count": 37,
   "metadata": {},
   "outputs": [],
   "source": [
    "# Setting up the pipeline\n",
    "\n",
    "tvec_lr_pipe = Pipeline([(\"tvec\", TfidfVectorizer()), \n",
    "                         (\"log_reg\", LogisticRegression())])\n",
    "\n",
    "# Setting TFIDF hyperparameters\n",
    "\n",
    "tvec_pipe_params = {\"tvec__max_features\": [650], \n",
    "                    \"tvec__ngram_range\" : [(1,1)], \n",
    "                    \"tvec__stop_words\"  : [None]}\n",
    "                    \n",
    "# Instantiating the grid search\n",
    "\n",
    "tvec_lr_gs = GridSearchCV(tvec_lr_pipe, \n",
    "                          param_grid = tvec_pipe_params, \n",
    "                          cv         = 5)\n",
    "\n",
    "# Fitting the model to the training data\n",
    "\n",
    "tvec_lr_gs.fit(X_train, y_train);\n",
    "\n",
    "# The warning is a futurewarning and can be ignored"
   ]
  },
  {
   "cell_type": "code",
   "execution_count": 38,
   "metadata": {},
   "outputs": [],
   "source": [
    "# Generating training predictions\n",
    "\n",
    "tvec_lr_train_preds = tvec_lr_gs.predict(X_train)\n",
    "\n",
    "# Generating test predictions\n",
    "\n",
    "tvec_lr_preds       = tvec_lr_gs.predict(X_test) \n",
    "\n",
    "# Generating test probabilities\n",
    "\n",
    "tvec_lr_probas     = tvec_lr_gs.predict(X_test)"
   ]
  },
  {
   "cell_type": "code",
   "execution_count": 39,
   "metadata": {},
   "outputs": [
    {
     "name": "stdout",
     "output_type": "stream",
     "text": [
      "Train Acc :  0.599714648065948\n",
      "Test Acc :  0.5158428390367554\n"
     ]
    }
   ],
   "source": [
    "print('Train Acc : ', accuracy_score(y_train, tvec_lr_train_preds))\n",
    "print('Test Acc : ', accuracy_score(y_test, tvec_lr_preds))"
   ]
  },
  {
   "cell_type": "code",
   "execution_count": 40,
   "metadata": {},
   "outputs": [],
   "source": [
    "# Support Vector Classifier\n",
    "\n",
    "# Setting up the pipeline\n",
    "\n",
    "cvec_svc_pipe = Pipeline([(\"cvec\", CountVectorizer()), \n",
    "                         (\"svc\", SVC())])\n",
    "\n",
    "# Setting CVEC and pipe hyperparameters\n",
    "\n",
    "cvec_pipe_params = {\"cvec__max_features\": [319], \n",
    "                    \"cvec__ngram_range\" : [(1,2)], \n",
    "                    \"cvec__stop_words\"  : [None],\n",
    "                    \"svc__C\"            : [1.0],\n",
    "                    \"svc__kernel\"       : [\"rbf\"],\n",
    "                    \"svc__gamma\"        : [\"auto\"]}\n",
    "                    \n",
    "# Instantiating the grid search\n",
    "\n",
    "cvec_svc_gs = GridSearchCV(cvec_svc_pipe, \n",
    "                           param_grid = cvec_pipe_params, \n",
    "                           cv         = 5)\n",
    "\n",
    "# Fitting the model to the training data\n",
    "\n",
    "cvec_svc_gs.fit(X_train, y_train);"
   ]
  },
  {
   "cell_type": "code",
   "execution_count": 41,
   "metadata": {},
   "outputs": [],
   "source": [
    "# Generating training predictions\n",
    "\n",
    "cvec_svc_train_preds = cvec_svc_gs.predict(X_train)\n",
    "\n",
    "# Generating test predictions\n",
    "\n",
    "cvec_svc_preds       = cvec_svc_gs.predict(X_test)"
   ]
  },
  {
   "cell_type": "code",
   "execution_count": 42,
   "metadata": {},
   "outputs": [
    {
     "name": "stdout",
     "output_type": "stream",
     "text": [
      "Train Acc :  0.44245402663284716\n",
      "Test Acc :  0.4423320659062104\n"
     ]
    }
   ],
   "source": [
    "print('Train Acc : ', accuracy_score(y_train, cvec_svc_train_preds))\n",
    "print('Test Acc : ', accuracy_score(y_test, cvec_svc_preds))"
   ]
  },
  {
   "cell_type": "code",
   "execution_count": 43,
   "metadata": {},
   "outputs": [],
   "source": [
    "# Setting up the pipeline\n",
    "\n",
    "tvec_svc_pipe = Pipeline([(\"tvec\", TfidfVectorizer()), \n",
    "                         (\"svc\", SVC())])\n",
    "\n",
    "# Setting TFIDF and pipe hyperparameters\n",
    "\n",
    "tvec_pipe_params = {\"tvec__max_features\": [1], \n",
    "                    \"tvec__ngram_range\" : [(1,1)], \n",
    "                    \"tvec__stop_words\"  : [None],\n",
    "                    \"svc__C\"            : [1.0],\n",
    "                    \"svc__kernel\"       : [\"rbf\"],\n",
    "                    \"svc__gamma\"        : [\"auto\"]}\n",
    "                    \n",
    "# Instantiating the grid search\n",
    "\n",
    "tvec_svc_gs = GridSearchCV(tvec_svc_pipe, \n",
    "                           param_grid = tvec_pipe_params, \n",
    "                           cv         = 5)\n",
    "\n",
    "# Fitting the model to the training data\n",
    "\n",
    "tvec_svc_gs.fit(X_train, y_train);"
   ]
  },
  {
   "cell_type": "code",
   "execution_count": 44,
   "metadata": {},
   "outputs": [],
   "source": [
    "# Generating training predictions\n",
    "\n",
    "tvec_svc_train_preds = tvec_svc_gs.predict(X_train)\n",
    "\n",
    "# Generating test predictions\n",
    "\n",
    "tvec_svc_preds       = tvec_svc_gs.predict(X_test)"
   ]
  },
  {
   "cell_type": "code",
   "execution_count": 45,
   "metadata": {},
   "outputs": [],
   "source": [
    "# Creating the pipeline\n",
    "\n",
    "cvec_rf_pipe = Pipeline([(\"cvec\", CountVectorizer()), \n",
    "                         (\"rf\", RandomForestClassifier(random_state = 42))])\n",
    "\n",
    "# Setting CVEC and pipeline hyperparameters\n",
    "\n",
    "cvec_pipe_params = {\"cvec__max_features\"   : [1000], \n",
    "                    \"cvec__ngram_range\"    : [(1,1)], \n",
    "                    \"cvec__stop_words\"     : [None],\n",
    "                    \"rf__n_estimators\"     : [72],\n",
    "                    \"rf__min_samples_split\": [6],\n",
    "                    \"rf__min_samples_leaf\" : [2],\n",
    "                    \"rf__max_depth\"        : [20]}\n",
    "\n",
    "# Instantiating the grid search\n",
    "\n",
    "cvec_rf_gs = GridSearchCV(cvec_rf_pipe, \n",
    "                          param_grid = cvec_pipe_params, \n",
    "                          cv         = 5,\n",
    "                          n_jobs     = 6)\n",
    "\n",
    "# Fitting the model to the training data\n",
    "\n",
    "cvec_rf_gs.fit(X_train, y_train);"
   ]
  },
  {
   "cell_type": "code",
   "execution_count": 46,
   "metadata": {},
   "outputs": [],
   "source": [
    "# Generating training predictions\n",
    "\n",
    "cvec_rf_train_preds = cvec_rf_gs.predict(X_train)\n",
    "\n",
    "# Generating test predictions\n",
    "\n",
    "cvec_rf_preds       = cvec_rf_gs.predict(X_test) \n",
    "\n",
    "# Generating test probabilities\n",
    "\n",
    "cvec_rf_probas      = cvec_rf_gs.predict_proba(X_test)"
   ]
  },
  {
   "cell_type": "code",
   "execution_count": 47,
   "metadata": {},
   "outputs": [],
   "source": [
    "# Creating the pipeline\n",
    "\n",
    "tvec_rf_pipe = Pipeline([(\"tvec\", TfidfVectorizer()), \n",
    "                         (\"rf\", RandomForestClassifier(random_state = 42))])\n",
    "\n",
    "# Setting the TVEC and pipeline hyperparameters\n",
    "\n",
    "tvec_pipe_params = {\"tvec__max_features\"   : [250], \n",
    "                    \"tvec__ngram_range\"    : [(1,2)], \n",
    "                    \"tvec__stop_words\"     : [None],\n",
    "                    \"rf__n_estimators\"     : [30],\n",
    "                    \"rf__min_samples_split\": [6],\n",
    "                    \"rf__min_samples_leaf\" : [2],\n",
    "                    \"rf__max_depth\"        : [12]}\n",
    "\n",
    "# Instantiating the grid search\n",
    "\n",
    "tvec_rf_gs = GridSearchCV(tvec_rf_pipe, \n",
    "                          param_grid = tvec_pipe_params, \n",
    "                          cv         = 5,\n",
    "                          n_jobs     = 6)\n",
    "\n",
    "# Fitting the model to the testing data\n",
    "\n",
    "tvec_rf_gs.fit(X_train, y_train);"
   ]
  },
  {
   "cell_type": "code",
   "execution_count": 48,
   "metadata": {},
   "outputs": [],
   "source": [
    "# Generating training predictions\n",
    "\n",
    "tvec_rf_train_preds = tvec_rf_gs.predict(X_train)\n",
    "\n",
    "# Generating test predictions\n",
    "\n",
    "tvec_rf_preds       = tvec_rf_gs.predict(X_test) \n",
    "\n",
    "# Generating test probabilities\n",
    "\n",
    "tvec_rf_probas      = tvec_rf_gs.predict_proba(X_test)"
   ]
  },
  {
   "cell_type": "code",
   "execution_count": 49,
   "metadata": {},
   "outputs": [
    {
     "name": "stderr",
     "output_type": "stream",
     "text": [
      "/Users/jaecheolchoi/opt/anaconda3/envs/nltk/lib/python3.7/site-packages/xgboost/sklearn.py:892: UserWarning: The use of label encoder in XGBClassifier is deprecated and will be removed in a future release. To remove this warning, do the following: 1) Pass option use_label_encoder=False when constructing XGBClassifier object; and 2) Encode your labels (y) as integers starting with 0, i.e. 0, 1, 2, ..., [num_class - 1].\n",
      "  warnings.warn(label_encoder_deprecation_msg, UserWarning)\n"
     ]
    },
    {
     "name": "stdout",
     "output_type": "stream",
     "text": [
      "[23:41:21] WARNING: /Users/travis/build/dmlc/xgboost/src/learner.cc:541: \n",
      "Parameters: { early_stopping_rounds } might not be used.\n",
      "\n",
      "  This may not be accurate due to some parameters are only used in language bindings but\n",
      "  passed down to XGBoost core.  Or some parameters are not used but slip through this\n",
      "  verification. Please open an issue if you find above cases.\n",
      "\n",
      "\n",
      "[23:41:21] WARNING: /Users/travis/build/dmlc/xgboost/src/learner.cc:1061: Starting in XGBoost 1.3.0, the default evaluation metric used with the objective 'multi:softprob' was changed from 'merror' to 'mlogloss'. Explicitly set eval_metric if you'd like to restore the old behavior.\n"
     ]
    }
   ],
   "source": [
    "# Creating the pipeline\n",
    "# The model's best parameters are shown\n",
    "\n",
    "cvec_xgbc_pipe = Pipeline([(\"cvec\", CountVectorizer()), \n",
    "                           (\"xgbc\", XGBClassifier(n_jobs                = 6,\n",
    "                                                  seed                  = 42,\n",
    "                                                  early_stopping_rounds = 10))])\n",
    "\n",
    "# Setting CVEC and pipeline hyperparameters\n",
    "\n",
    "cvec_pipe_params = {\"cvec__max_features\"   : [200], \n",
    "                    \"cvec__ngram_range\"    : [(1,3)], \n",
    "                    \"cvec__stop_words\"     : [None],\n",
    "                    \"xgbc__max_depth\"      : [3],\n",
    "                    \"xgbc__learning_rate\"  : [0.04],\n",
    "                    \"xgbc__n_estimators\"   : [175],\n",
    "                    \"xgbc__gamma\"          : [3.0]}\n",
    "\n",
    "# Instantiating the grid search\n",
    "\n",
    "cvec_xgbc_gs = GridSearchCV(cvec_xgbc_pipe, \n",
    "                            param_grid = cvec_pipe_params, \n",
    "                            cv         = 5,\n",
    "                            n_jobs     = 6)\n",
    "\n",
    "# Fitting the model to the testing data\n",
    "\n",
    "cvec_xgbc_gs.fit(X_train, y_train);"
   ]
  },
  {
   "cell_type": "code",
   "execution_count": 50,
   "metadata": {},
   "outputs": [],
   "source": [
    "# Generating training predictions\n",
    "\n",
    "cvec_xgbc_train_preds = cvec_xgbc_gs.predict(X_train)\n",
    "\n",
    "# Generating test predictions\n",
    "\n",
    "cvec_xgbc_preds       = cvec_xgbc_gs.predict(X_test) \n",
    "\n",
    "# Generating test probabilities\n",
    "\n",
    "cvec_xgbc_probas      = cvec_xgbc_gs.predict_proba(X_test)"
   ]
  },
  {
   "cell_type": "code",
   "execution_count": 51,
   "metadata": {},
   "outputs": [
    {
     "name": "stderr",
     "output_type": "stream",
     "text": [
      "/Users/jaecheolchoi/opt/anaconda3/envs/nltk/lib/python3.7/site-packages/xgboost/sklearn.py:892: UserWarning: The use of label encoder in XGBClassifier is deprecated and will be removed in a future release. To remove this warning, do the following: 1) Pass option use_label_encoder=False when constructing XGBClassifier object; and 2) Encode your labels (y) as integers starting with 0, i.e. 0, 1, 2, ..., [num_class - 1].\n",
      "  warnings.warn(label_encoder_deprecation_msg, UserWarning)\n"
     ]
    },
    {
     "name": "stdout",
     "output_type": "stream",
     "text": [
      "[23:41:26] WARNING: /Users/travis/build/dmlc/xgboost/src/learner.cc:541: \n",
      "Parameters: { early_stopping_rounds } might not be used.\n",
      "\n",
      "  This may not be accurate due to some parameters are only used in language bindings but\n",
      "  passed down to XGBoost core.  Or some parameters are not used but slip through this\n",
      "  verification. Please open an issue if you find above cases.\n",
      "\n",
      "\n",
      "[23:41:26] WARNING: /Users/travis/build/dmlc/xgboost/src/learner.cc:1061: Starting in XGBoost 1.3.0, the default evaluation metric used with the objective 'multi:softprob' was changed from 'merror' to 'mlogloss'. Explicitly set eval_metric if you'd like to restore the old behavior.\n"
     ]
    }
   ],
   "source": [
    "# Creating the pipeline\n",
    "# The model's best parameters are shown\n",
    "\n",
    "tvec_xgbc_pipe = Pipeline([(\"tvec\", TfidfVectorizer()), \n",
    "                           (\"xgbc\", XGBClassifier(n_jobs                = 6,\n",
    "                                                  seed                  = 42,\n",
    "                                                  early_stopping_rounds = 10))])\n",
    "\n",
    "# Setting the TFIDF and pipeline hyperparameters\n",
    "\n",
    "tvec_pipe_params = {\"tvec__max_features\"   : [525], \n",
    "                    \"tvec__ngram_range\"    : [(1,3)], \n",
    "                    \"tvec__stop_words\"     : [None],\n",
    "                    \"xgbc__max_depth\"      : [3],\n",
    "                    \"xgbc__learning_rate\"  : [0.25],\n",
    "                    \"xgbc__n_estimators\"   : [139],\n",
    "                    \"xgbc__gamma\"          : [1.0]}\n",
    "\n",
    "# Instantiating the grid search\n",
    "\n",
    "tvec_xgbc_gs = GridSearchCV(tvec_xgbc_pipe, \n",
    "                            param_grid = tvec_pipe_params, \n",
    "                            cv         = 5,\n",
    "                            n_jobs     = 6)\n",
    "\n",
    "# Fitting the model to the testing data\n",
    "\n",
    "tvec_xgbc_gs.fit(X_train, y_train);"
   ]
  },
  {
   "cell_type": "code",
   "execution_count": 52,
   "metadata": {},
   "outputs": [],
   "source": [
    "# Generating training predictions\n",
    "\n",
    "tvec_xgbc_train_preds = tvec_xgbc_gs.predict(X_train)\n",
    "\n",
    "# Generating test predictions\n",
    "\n",
    "tvec_xgbc_preds       = tvec_xgbc_gs.predict(X_test) \n",
    "\n",
    "# Generating test probabilities\n",
    "\n",
    "tvec_xgbc_probas      = tvec_xgbc_gs.predict_proba(X_test)"
   ]
  },
  {
   "cell_type": "code",
   "execution_count": 53,
   "metadata": {},
   "outputs": [],
   "source": [
    "def display_side_by_side(*args):\n",
    "    html_str = ''\n",
    "    for df in args:\n",
    "        html_str += df.to_html()\n",
    "    display_html(html_str.replace('table', 'table style=\"display:inline\"'), raw = True)"
   ]
  },
  {
   "cell_type": "code",
   "execution_count": 65,
   "metadata": {},
   "outputs": [],
   "source": [
    "# Count vectorizer metrics\n",
    "\n",
    "cvec_accuracy          = [accuracy_score(y_test, cvec_lr_preds), \n",
    "                          accuracy_score(y_test, cvec_svc_preds),\n",
    "                          accuracy_score(y_test, cvec_rf_preds), \n",
    "                          accuracy_score(y_test, cvec_xgbc_preds)]\n",
    "\n",
    "cvec_f1                = [f1_score(y_test, cvec_lr_preds, average='micro'), \n",
    "                          f1_score(y_test, cvec_svc_preds, average='micro'),\n",
    "                          f1_score(y_test, cvec_rf_preds, average='micro'), \n",
    "                          f1_score(y_test, cvec_xgbc_preds, average='micro')]\n",
    "\n",
    "\n",
    "# cvec_rocauc_score      = [roc_auc_score(y_test, cvec_lr_preds),\n",
    "#                           roc_auc_score(y_test, cvec_svc_preds),\n",
    "#                           roc_auc_score(y_test, cvec_rf_preds),\n",
    "#                           roc_auc_score(y_test, cvec_xgbc_preds)]\n",
    "\n",
    "# TFIDF vectorizer metrics\n",
    "\n",
    "tvec_accuracy          = [accuracy_score(y_test, tvec_lr_preds), \n",
    "                          accuracy_score(y_test, tvec_svc_preds),\n",
    "                          accuracy_score(y_test, tvec_rf_preds), \n",
    "                          accuracy_score(y_test, tvec_xgbc_preds)]\n",
    "\n",
    "tvec_f1                = [f1_score(y_test, tvec_lr_preds, average='micro'), \n",
    "                          f1_score(y_test, tvec_svc_preds, average='micro'),\n",
    "                          f1_score(y_test, tvec_rf_preds, average='micro'), \n",
    "                          f1_score(y_test, tvec_xgbc_preds, average='micro')]\n",
    "\n",
    "# tvec_rocauc_score      = [roc_auc_score(y_test, tvec_lr_preds),\n",
    "#                           roc_auc_score(y_test, tvec_svc_preds),\n",
    "#                           roc_auc_score(y_test, tvec_rf_preds),\n",
    "#                           roc_auc_score(y_test, tvec_xgbc_preds)]"
   ]
  },
  {
   "cell_type": "code",
   "execution_count": 66,
   "metadata": {},
   "outputs": [],
   "source": [
    "cvec_scores = pd.DataFrame(data    = [cvec_f1],\n",
    "                           \n",
    "                           columns = [\"CVEC_Log. Reg.\", \"CVEC_SVC\", \"CVEC_Random Forest\", \"CVEC_XGBoost\"],\n",
    "                           index   = [\"F1-Score\"])\n",
    "\n",
    "# A dataframe for the TVEC scores\n",
    "\n",
    "tvec_scores = pd.DataFrame(data    = [tvec_f1],\n",
    "                           columns = [\"TVEC_Log. Reg.\", \"TVEC_SVC\", \"TVEC_Random Forest\", \"TVEC_XGBoost\"],\n",
    "                           index   = [ \"F1-Score\"])"
   ]
  },
  {
   "cell_type": "code",
   "execution_count": 67,
   "metadata": {},
   "outputs": [
    {
     "data": {
      "text/html": [
       "<style>.container { width:95% !important; }</style>"
      ],
      "text/plain": [
       "<IPython.core.display.HTML object>"
      ]
     },
     "metadata": {},
     "output_type": "display_data"
    }
   ],
   "source": [
    "from IPython.display import display_html\n",
    "from IPython.core.display import display, HTML\n",
    "\n",
    "display(HTML(\"<style>.container { width:95% !important; }</style>\"))"
   ]
  },
  {
   "cell_type": "code",
   "execution_count": 68,
   "metadata": {},
   "outputs": [
    {
     "data": {
      "text/html": [
       "<table style=\"display:inline\" border=\"1\" class=\"dataframe\">\n",
       "  <thead>\n",
       "    <tr style=\"text-align: right;\">\n",
       "      <th></th>\n",
       "      <th>CVEC_Log. Reg.</th>\n",
       "      <th>CVEC_SVC</th>\n",
       "      <th>CVEC_Random Forest</th>\n",
       "      <th>CVEC_XGBoost</th>\n",
       "    </tr>\n",
       "  </thead>\n",
       "  <tbody>\n",
       "    <tr>\n",
       "      <th>F1-Score</th>\n",
       "      <td>0.490494</td>\n",
       "      <td>0.442332</td>\n",
       "      <td>0.485425</td>\n",
       "      <td>0.481622</td>\n",
       "    </tr>\n",
       "  </tbody>\n",
       "</table style=\"display:inline\"><table style=\"display:inline\" border=\"1\" class=\"dataframe\">\n",
       "  <thead>\n",
       "    <tr style=\"text-align: right;\">\n",
       "      <th></th>\n",
       "      <th>TVEC_Log. Reg.</th>\n",
       "      <th>TVEC_SVC</th>\n",
       "      <th>TVEC_Random Forest</th>\n",
       "      <th>TVEC_XGBoost</th>\n",
       "    </tr>\n",
       "  </thead>\n",
       "  <tbody>\n",
       "    <tr>\n",
       "      <th>F1-Score</th>\n",
       "      <td>0.515843</td>\n",
       "      <td>0.441698</td>\n",
       "      <td>0.472117</td>\n",
       "      <td>0.475919</td>\n",
       "    </tr>\n",
       "  </tbody>\n",
       "</table style=\"display:inline\">"
      ]
     },
     "metadata": {},
     "output_type": "display_data"
    }
   ],
   "source": [
    "# Displaying the two dataframes side by side\n",
    "\n",
    "display_side_by_side(cvec_scores,\n",
    "                     tvec_scores)\n",
    "\n",
    "# The first table is the CVEC scores\n",
    "# The second table is the TVEC scores"
   ]
  },
  {
   "cell_type": "code",
   "execution_count": 69,
   "metadata": {},
   "outputs": [
    {
     "data": {
      "text/plain": [
       "(array([0, 1, 2]), array([242, 940, 396]))"
      ]
     },
     "execution_count": 69,
     "metadata": {},
     "output_type": "execute_result"
    }
   ],
   "source": [
    "np.unique(tvec_lr_preds, return_counts=True)"
   ]
  },
  {
   "cell_type": "code",
   "execution_count": 70,
   "metadata": {},
   "outputs": [],
   "source": [
    "models = {'CVEC_Random Forest':cvec_rf_gs, 'TVEC_Log. Reg':tvec_lr_gs}"
   ]
  },
  {
   "cell_type": "code",
   "execution_count": 71,
   "metadata": {},
   "outputs": [
    {
     "ename": "ValueError",
     "evalue": "multiclass format is not supported",
     "output_type": "error",
     "traceback": [
      "\u001b[0;31m---------------------------------------------------------------------------\u001b[0m",
      "\u001b[0;31mValueError\u001b[0m                                Traceback (most recent call last)",
      "\u001b[0;32m<ipython-input-71-ac44720daf18>\u001b[0m in \u001b[0;36m<module>\u001b[0;34m\u001b[0m\n\u001b[1;32m      5\u001b[0m \u001b[0;32mfor\u001b[0m \u001b[0mmodel_name\u001b[0m\u001b[0;34m,\u001b[0m \u001b[0mmodel\u001b[0m \u001b[0;32min\u001b[0m \u001b[0mmodels\u001b[0m\u001b[0;34m.\u001b[0m\u001b[0mitems\u001b[0m\u001b[0;34m(\u001b[0m\u001b[0;34m)\u001b[0m\u001b[0;34m:\u001b[0m\u001b[0;34m\u001b[0m\u001b[0;34m\u001b[0m\u001b[0m\n\u001b[1;32m      6\u001b[0m     \u001b[0mpred\u001b[0m \u001b[0;34m=\u001b[0m \u001b[0mmodel\u001b[0m\u001b[0;34m.\u001b[0m\u001b[0mpredict_proba\u001b[0m\u001b[0;34m(\u001b[0m\u001b[0mX_test\u001b[0m\u001b[0;34m)\u001b[0m\u001b[0;34m[\u001b[0m\u001b[0;34m:\u001b[0m\u001b[0;34m,\u001b[0m \u001b[0;36m1\u001b[0m\u001b[0;34m]\u001b[0m\u001b[0;34m\u001b[0m\u001b[0;34m\u001b[0m\u001b[0m\n\u001b[0;32m----> 7\u001b[0;31m     \u001b[0mfpr\u001b[0m\u001b[0;34m,\u001b[0m \u001b[0mtpr\u001b[0m\u001b[0;34m,\u001b[0m \u001b[0mthresholds\u001b[0m \u001b[0;34m=\u001b[0m \u001b[0mroc_curve\u001b[0m\u001b[0;34m(\u001b[0m\u001b[0my_test\u001b[0m\u001b[0;34m,\u001b[0m \u001b[0mpred\u001b[0m\u001b[0;34m)\u001b[0m\u001b[0;34m\u001b[0m\u001b[0;34m\u001b[0m\u001b[0m\n\u001b[0m\u001b[1;32m      8\u001b[0m     \u001b[0mplt\u001b[0m\u001b[0;34m.\u001b[0m\u001b[0mplot\u001b[0m\u001b[0;34m(\u001b[0m\u001b[0mfpr\u001b[0m\u001b[0;34m,\u001b[0m \u001b[0mtpr\u001b[0m\u001b[0;34m,\u001b[0m \u001b[0mlabel\u001b[0m\u001b[0;34m=\u001b[0m\u001b[0mmodel_name\u001b[0m\u001b[0;34m)\u001b[0m\u001b[0;34m\u001b[0m\u001b[0;34m\u001b[0m\u001b[0m\n\u001b[1;32m      9\u001b[0m \u001b[0;34m\u001b[0m\u001b[0m\n",
      "\u001b[0;32m~/opt/anaconda3/envs/nltk/lib/python3.7/site-packages/sklearn/utils/validation.py\u001b[0m in \u001b[0;36minner_f\u001b[0;34m(*args, **kwargs)\u001b[0m\n\u001b[1;32m     61\u001b[0m             \u001b[0mextra_args\u001b[0m \u001b[0;34m=\u001b[0m \u001b[0mlen\u001b[0m\u001b[0;34m(\u001b[0m\u001b[0margs\u001b[0m\u001b[0;34m)\u001b[0m \u001b[0;34m-\u001b[0m \u001b[0mlen\u001b[0m\u001b[0;34m(\u001b[0m\u001b[0mall_args\u001b[0m\u001b[0;34m)\u001b[0m\u001b[0;34m\u001b[0m\u001b[0;34m\u001b[0m\u001b[0m\n\u001b[1;32m     62\u001b[0m             \u001b[0;32mif\u001b[0m \u001b[0mextra_args\u001b[0m \u001b[0;34m<=\u001b[0m \u001b[0;36m0\u001b[0m\u001b[0;34m:\u001b[0m\u001b[0;34m\u001b[0m\u001b[0;34m\u001b[0m\u001b[0m\n\u001b[0;32m---> 63\u001b[0;31m                 \u001b[0;32mreturn\u001b[0m \u001b[0mf\u001b[0m\u001b[0;34m(\u001b[0m\u001b[0;34m*\u001b[0m\u001b[0margs\u001b[0m\u001b[0;34m,\u001b[0m \u001b[0;34m**\u001b[0m\u001b[0mkwargs\u001b[0m\u001b[0;34m)\u001b[0m\u001b[0;34m\u001b[0m\u001b[0;34m\u001b[0m\u001b[0m\n\u001b[0m\u001b[1;32m     64\u001b[0m \u001b[0;34m\u001b[0m\u001b[0m\n\u001b[1;32m     65\u001b[0m             \u001b[0;31m# extra_args > 0\u001b[0m\u001b[0;34m\u001b[0m\u001b[0;34m\u001b[0m\u001b[0;34m\u001b[0m\u001b[0m\n",
      "\u001b[0;32m~/opt/anaconda3/envs/nltk/lib/python3.7/site-packages/sklearn/metrics/_ranking.py\u001b[0m in \u001b[0;36mroc_curve\u001b[0;34m(y_true, y_score, pos_label, sample_weight, drop_intermediate)\u001b[0m\n\u001b[1;32m    912\u001b[0m     \"\"\"\n\u001b[1;32m    913\u001b[0m     fps, tps, thresholds = _binary_clf_curve(\n\u001b[0;32m--> 914\u001b[0;31m         y_true, y_score, pos_label=pos_label, sample_weight=sample_weight)\n\u001b[0m\u001b[1;32m    915\u001b[0m \u001b[0;34m\u001b[0m\u001b[0m\n\u001b[1;32m    916\u001b[0m     \u001b[0;31m# Attempt to drop thresholds corresponding to points in between and\u001b[0m\u001b[0;34m\u001b[0m\u001b[0;34m\u001b[0m\u001b[0;34m\u001b[0m\u001b[0m\n",
      "\u001b[0;32m~/opt/anaconda3/envs/nltk/lib/python3.7/site-packages/sklearn/metrics/_ranking.py\u001b[0m in \u001b[0;36m_binary_clf_curve\u001b[0;34m(y_true, y_score, pos_label, sample_weight)\u001b[0m\n\u001b[1;32m    689\u001b[0m     if not (y_type == \"binary\" or\n\u001b[1;32m    690\u001b[0m             (y_type == \"multiclass\" and pos_label is not None)):\n\u001b[0;32m--> 691\u001b[0;31m         \u001b[0;32mraise\u001b[0m \u001b[0mValueError\u001b[0m\u001b[0;34m(\u001b[0m\u001b[0;34m\"{0} format is not supported\"\u001b[0m\u001b[0;34m.\u001b[0m\u001b[0mformat\u001b[0m\u001b[0;34m(\u001b[0m\u001b[0my_type\u001b[0m\u001b[0;34m)\u001b[0m\u001b[0;34m)\u001b[0m\u001b[0;34m\u001b[0m\u001b[0;34m\u001b[0m\u001b[0m\n\u001b[0m\u001b[1;32m    692\u001b[0m \u001b[0;34m\u001b[0m\u001b[0m\n\u001b[1;32m    693\u001b[0m     \u001b[0mcheck_consistent_length\u001b[0m\u001b[0;34m(\u001b[0m\u001b[0my_true\u001b[0m\u001b[0;34m,\u001b[0m \u001b[0my_score\u001b[0m\u001b[0;34m,\u001b[0m \u001b[0msample_weight\u001b[0m\u001b[0;34m)\u001b[0m\u001b[0;34m\u001b[0m\u001b[0;34m\u001b[0m\u001b[0m\n",
      "\u001b[0;31mValueError\u001b[0m: multiclass format is not supported"
     ]
    },
    {
     "data": {
      "image/png": "[encoded data removed]",
      "text/plain": [
       "<Figure size 720x576 with 1 Axes>"
      ]
     },
     "metadata": {
      "image/png": {
       "height": 468,
       "width": 597
      }
     },
     "output_type": "display_data"
    }
   ],
   "source": [
    "from sklearn.metrics import roc_curve\n",
    "\n",
    "plt.figure(figsize=(10,8))\n",
    "plt.plot([0,1],[0,1])\n",
    "for model_name, model in models.items():\n",
    "    pred = model.predict_proba(X_test)[:, 1]\n",
    "    fpr, tpr, thresholds = roc_curve(y_test, pred)\n",
    "    plt.plot(fpr, tpr, label=model_name)\n",
    "    \n",
    "plt.grid()\n",
    "plt.legend()\n",
    "plt.show()"
   ]
  },
  {
   "cell_type": "code",
   "execution_count": null,
   "metadata": {},
   "outputs": [],
   "source": []
  }
 ],
 "metadata": {
  "kernelspec": {
   "display_name": "Python 3",
   "language": "python",
   "name": "python3"
  },
  "language_info": {
   "codemirror_mode": {
    "name": "ipython",
    "version": 3
   },
   "file_extension": ".py",
   "mimetype": "text/x-python",
   "name": "python",
   "nbconvert_exporter": "python",
   "pygments_lexer": "ipython3",
   "version": "3.8.3"
  }
 },
 "nbformat": 4,
 "nbformat_minor": 4
}
